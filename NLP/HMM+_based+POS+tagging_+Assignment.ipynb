{
 "cells": [
  {
   "cell_type": "markdown",
   "metadata": {
    "id": "imvE0egnkYs-"
   },
   "source": [
    "## POS tagging using modified Viterbi"
   ]
  },
  {
   "cell_type": "markdown",
   "metadata": {
    "id": "PiEFF-lIkYs_"
   },
   "source": [
    "### Data Preparation"
   ]
  },
  {
   "cell_type": "code",
   "execution_count": 1,
   "metadata": {
    "id": "rUNziIdkkYtA"
   },
   "outputs": [],
   "source": [
    "#Importing libraries\n",
    "import nltk\n",
    "import numpy as np\n",
    "import pandas as pd\n",
    "import time\n",
    "from sklearn.model_selection import train_test_split\n",
    "from nltk.tokenize import word_tokenize\n",
    "import matplotlib.pyplot as plt\n",
    "import seaborn as sns\n",
    "import random"
   ]
  },
  {
   "cell_type": "code",
   "execution_count": 2,
   "metadata": {
    "colab": {
     "base_uri": "https://localhost:8080/",
     "height": 102
    },
    "id": "37rjPbWnkumk",
    "outputId": "d1221145-660f-485f-a687-9d018a3664b3"
   },
   "outputs": [
    {
     "name": "stdout",
     "output_type": "stream",
     "text": [
      "[nltk_data] Downloading package treebank to /root/nltk_data...\n",
      "[nltk_data]   Package treebank is already up-to-date!\n",
      "[nltk_data] Downloading package universal_tagset to /root/nltk_data...\n",
      "[nltk_data]   Package universal_tagset is already up-to-date!\n"
     ]
    },
    {
     "data": {
      "text/plain": [
       "True"
      ]
     },
     "execution_count": 2,
     "metadata": {
      "tags": []
     },
     "output_type": "execute_result"
    }
   ],
   "source": [
    "nltk.download('treebank')\n",
    "nltk.download('universal_tagset')"
   ]
  },
  {
   "cell_type": "code",
   "execution_count": 3,
   "metadata": {
    "id": "DgUIPSNAkYtD"
   },
   "outputs": [],
   "source": [
    "# reading the Treebank tagged sentences\n",
    "universal_data = list(nltk.corpus.treebank.tagged_sents(tagset='universal'))"
   ]
  },
  {
   "cell_type": "code",
   "execution_count": 4,
   "metadata": {
    "colab": {
     "base_uri": "https://localhost:8080/",
     "height": 51
    },
    "id": "xpLbdKLykYtG",
    "outputId": "218cede3-1997-433d-8ec6-6a18d21a46f4"
   },
   "outputs": [
    {
     "name": "stdout",
     "output_type": "stream",
     "text": [
      "3718\n",
      "196\n"
     ]
    }
   ],
   "source": [
    "# Splitting into train and test\n",
    "train_set, test_set = train_test_split(universal_data, test_size=0.05, random_state=234)\n",
    "\n",
    "print(len(train_set))\n",
    "print(len(test_set))"
   ]
  },
  {
   "cell_type": "code",
   "execution_count": 5,
   "metadata": {
    "colab": {
     "base_uri": "https://localhost:8080/",
     "height": 51
    },
    "id": "5h10LxJPdL5C",
    "outputId": "50cf6629-35fc-42c4-b1a3-8e121a3a1dcb"
   },
   "outputs": [
    {
     "name": "stdout",
     "output_type": "stream",
     "text": [
      "Train Tagged Words -  95253\n",
      "Train Tagged Words -  5423\n"
     ]
    }
   ],
   "source": [
    "# Getting the list of test and train tagged words\n",
    "tagged_words_train = [tup for sent in train_set for tup in sent]\n",
    "print(\"Train Tagged Words - \", len(tagged_words_train))\n",
    "\n",
    "tagged_words_test = [tup for sent in test_set for tup in sent]\n",
    "print(\"Train Tagged Words - \", len(tagged_words_test))"
   ]
  },
  {
   "cell_type": "code",
   "execution_count": 6,
   "metadata": {
    "colab": {
     "base_uri": "https://localhost:8080/",
     "height": 357
    },
    "id": "SgNDE0heeEN3",
    "outputId": "911b11a8-97be-4755-f5d8-b6f501491b19"
   },
   "outputs": [
    {
     "data": {
      "text/plain": [
       "[('Companies', 'NOUN'),\n",
       " ('listed', 'VERB'),\n",
       " ('*', 'X'),\n",
       " ('below', 'ADP'),\n",
       " ('reported', 'VERB'),\n",
       " ('quarterly', 'ADJ'),\n",
       " ('profit', 'NOUN'),\n",
       " ('substantially', 'ADV'),\n",
       " ('different', 'ADJ'),\n",
       " ('from', 'ADP'),\n",
       " ('the', 'DET'),\n",
       " ('average', 'NOUN'),\n",
       " ('of', 'ADP'),\n",
       " ('analysts', 'NOUN'),\n",
       " (\"'\", 'PRT'),\n",
       " ('estimates', 'NOUN'),\n",
       " ('.', '.'),\n",
       " ('The', 'DET'),\n",
       " ('prevailing', 'VERB'),\n",
       " ('interpretation', 'NOUN')]"
      ]
     },
     "execution_count": 6,
     "metadata": {
      "tags": []
     },
     "output_type": "execute_result"
    }
   ],
   "source": [
    "# Getting an idea of train tag set\n",
    "tagged_words_train[:20]"
   ]
  },
  {
   "cell_type": "code",
   "execution_count": 7,
   "metadata": {
    "colab": {
     "base_uri": "https://localhost:8080/",
     "height": 51
    },
    "id": "myYCjNBFer5j",
    "outputId": "ec8eb77f-ec54-477a-cde4-0c62324e65cd"
   },
   "outputs": [
    {
     "name": "stdout",
     "output_type": "stream",
     "text": [
      "Length of Tokens in train set is 12010\n",
      "Length of POS tags in train set is 12\n"
     ]
    }
   ],
   "source": [
    "# Tokens \n",
    "tokens_train = set([pair[0] for pair in tagged_words_train])\n",
    "print ('Length of Tokens in train set is',len(tokens_train))\n",
    "# Number of tags\n",
    "tags_train = set([pair[1] for pair in tagged_words_train])\n",
    "print ('Length of POS tags in train set is',len(tags_train))"
   ]
  },
  {
   "cell_type": "markdown",
   "metadata": {
    "id": "j0Ii46yV96oD"
   },
   "source": [
    "Emmision Probability"
   ]
  },
  {
   "cell_type": "code",
   "execution_count": 8,
   "metadata": {
    "id": "Bit0gBpkfo40"
   },
   "outputs": [],
   "source": [
    "# Function to compute the Emission Probability of a given word\n",
    "def emmisionProbability(word, tag, train_bag = tagged_words_train):\n",
    "    tag_list = [pair for pair in train_bag if pair[1] == tag]\n",
    "    tag_count = len(tag_list)\n",
    "    word_given_tag_list = [pair[0] for pair in tag_list if pair[0] == word]\n",
    "    word_given_tag_count = len(word_given_tag_list)\n",
    "\n",
    "    return (word_given_tag_count, tag_count)"
   ]
  },
  {
   "cell_type": "markdown",
   "metadata": {
    "id": "zTQO1laW-Tkf"
   },
   "source": [
    "Transition probabilities"
   ]
  },
  {
   "cell_type": "code",
   "execution_count": 9,
   "metadata": {
    "id": "puIzBhTa8Ciy"
   },
   "outputs": [],
   "source": [
    "# Funtion to Compute Transition Probability i.e. tag2(t2) given tag1(t1)   \n",
    "\n",
    "def transitionProbability(t2, t1, train_bag = tagged_words_train):\n",
    "    tags = [pair[1] for pair in train_bag]\n",
    "\n",
    "    count_t1 = len([t for t in tags if t==t1])\n",
    "    count_t2_t1 = 0\n",
    "    \n",
    "    for index in range(len(tags)-1):\n",
    "        if tags[index]==t1 and tags[index+1] == t2:\n",
    "            count_t2_t1 += 1\n",
    "    \n",
    "    return (count_t2_t1, count_t1)"
   ]
  },
  {
   "cell_type": "code",
   "execution_count": 10,
   "metadata": {
    "id": "eIFyHeLl-bxh"
   },
   "outputs": [],
   "source": [
    "# Creating t x t transition matrix of training POS tags\n",
    "\n",
    "transition_matrix = np.zeros((len(tags_train), len(tags_train)), dtype='float32') \n",
    "\n",
    "for i, t1 in enumerate(list(tags_train)):\n",
    "    for j, t2 in enumerate(list(tags_train)): \n",
    "        transition_matrix[i, j] = transitionProbability(t2, t1)[0]/transitionProbability(t2, t1)[1]"
   ]
  },
  {
   "cell_type": "code",
   "execution_count": 11,
   "metadata": {
    "id": "-K7hQP7A-kvL"
   },
   "outputs": [],
   "source": [
    "# Creating a dataframe for better readability\n",
    "tags_df = pd.DataFrame(transition_matrix, columns = list(tags_train), index=list(tags_train))"
   ]
  },
  {
   "cell_type": "code",
   "execution_count": 12,
   "metadata": {
    "colab": {
     "base_uri": "https://localhost:8080/",
     "height": 421
    },
    "id": "PqQckDd_-5A2",
    "outputId": "69944c19-ac5e-48fd-83fa-7237bb97424f"
   },
   "outputs": [
    {
     "data": {
      "text/html": [
       "<div>\n",
       "<style scoped>\n",
       "    .dataframe tbody tr th:only-of-type {\n",
       "        vertical-align: middle;\n",
       "    }\n",
       "\n",
       "    .dataframe tbody tr th {\n",
       "        vertical-align: top;\n",
       "    }\n",
       "\n",
       "    .dataframe thead th {\n",
       "        text-align: right;\n",
       "    }\n",
       "</style>\n",
       "<table border=\"1\" class=\"dataframe\">\n",
       "  <thead>\n",
       "    <tr style=\"text-align: right;\">\n",
       "      <th></th>\n",
       "      <th>PRT</th>\n",
       "      <th>ADJ</th>\n",
       "      <th>X</th>\n",
       "      <th>VERB</th>\n",
       "      <th>DET</th>\n",
       "      <th>ADP</th>\n",
       "      <th>.</th>\n",
       "      <th>ADV</th>\n",
       "      <th>PRON</th>\n",
       "      <th>NOUN</th>\n",
       "      <th>NUM</th>\n",
       "      <th>CONJ</th>\n",
       "    </tr>\n",
       "  </thead>\n",
       "  <tbody>\n",
       "    <tr>\n",
       "      <th>PRT</th>\n",
       "      <td>0.001978</td>\n",
       "      <td>0.084707</td>\n",
       "      <td>0.013514</td>\n",
       "      <td>0.404087</td>\n",
       "      <td>0.101516</td>\n",
       "      <td>0.021094</td>\n",
       "      <td>0.040870</td>\n",
       "      <td>0.010547</td>\n",
       "      <td>0.018128</td>\n",
       "      <td>0.245550</td>\n",
       "      <td>0.056032</td>\n",
       "      <td>0.001978</td>\n",
       "    </tr>\n",
       "    <tr>\n",
       "      <th>ADJ</th>\n",
       "      <td>0.010760</td>\n",
       "      <td>0.064559</td>\n",
       "      <td>0.020857</td>\n",
       "      <td>0.011753</td>\n",
       "      <td>0.004801</td>\n",
       "      <td>0.078464</td>\n",
       "      <td>0.064393</td>\n",
       "      <td>0.004469</td>\n",
       "      <td>0.000497</td>\n",
       "      <td>0.701374</td>\n",
       "      <td>0.021354</td>\n",
       "      <td>0.016719</td>\n",
       "    </tr>\n",
       "    <tr>\n",
       "      <th>X</th>\n",
       "      <td>0.184206</td>\n",
       "      <td>0.016876</td>\n",
       "      <td>0.076262</td>\n",
       "      <td>0.204904</td>\n",
       "      <td>0.054609</td>\n",
       "      <td>0.144722</td>\n",
       "      <td>0.163668</td>\n",
       "      <td>0.025633</td>\n",
       "      <td>0.056997</td>\n",
       "      <td>0.059545</td>\n",
       "      <td>0.002707</td>\n",
       "      <td>0.009871</td>\n",
       "    </tr>\n",
       "    <tr>\n",
       "      <th>VERB</th>\n",
       "      <td>0.030998</td>\n",
       "      <td>0.065329</td>\n",
       "      <td>0.218304</td>\n",
       "      <td>0.169870</td>\n",
       "      <td>0.133524</td>\n",
       "      <td>0.091367</td>\n",
       "      <td>0.035105</td>\n",
       "      <td>0.082378</td>\n",
       "      <td>0.035183</td>\n",
       "      <td>0.109888</td>\n",
       "      <td>0.022629</td>\n",
       "      <td>0.005425</td>\n",
       "    </tr>\n",
       "    <tr>\n",
       "      <th>DET</th>\n",
       "      <td>0.000242</td>\n",
       "      <td>0.205897</td>\n",
       "      <td>0.045916</td>\n",
       "      <td>0.039995</td>\n",
       "      <td>0.005437</td>\n",
       "      <td>0.009425</td>\n",
       "      <td>0.017641</td>\n",
       "      <td>0.013050</td>\n",
       "      <td>0.003504</td>\n",
       "      <td>0.636056</td>\n",
       "      <td>0.022354</td>\n",
       "      <td>0.000483</td>\n",
       "    </tr>\n",
       "    <tr>\n",
       "      <th>ADP</th>\n",
       "      <td>0.001175</td>\n",
       "      <td>0.105117</td>\n",
       "      <td>0.034078</td>\n",
       "      <td>0.008226</td>\n",
       "      <td>0.323683</td>\n",
       "      <td>0.016985</td>\n",
       "      <td>0.039633</td>\n",
       "      <td>0.013781</td>\n",
       "      <td>0.069223</td>\n",
       "      <td>0.325179</td>\n",
       "      <td>0.062280</td>\n",
       "      <td>0.000641</td>\n",
       "    </tr>\n",
       "    <tr>\n",
       "      <th>.</th>\n",
       "      <td>0.002447</td>\n",
       "      <td>0.044869</td>\n",
       "      <td>0.027375</td>\n",
       "      <td>0.089104</td>\n",
       "      <td>0.174492</td>\n",
       "      <td>0.091914</td>\n",
       "      <td>0.093002</td>\n",
       "      <td>0.053028</td>\n",
       "      <td>0.066624</td>\n",
       "      <td>0.219634</td>\n",
       "      <td>0.079405</td>\n",
       "      <td>0.058013</td>\n",
       "    </tr>\n",
       "    <tr>\n",
       "      <th>ADV</th>\n",
       "      <td>0.013536</td>\n",
       "      <td>0.131066</td>\n",
       "      <td>0.023110</td>\n",
       "      <td>0.344338</td>\n",
       "      <td>0.069330</td>\n",
       "      <td>0.119511</td>\n",
       "      <td>0.133707</td>\n",
       "      <td>0.080224</td>\n",
       "      <td>0.015847</td>\n",
       "      <td>0.030373</td>\n",
       "      <td>0.031694</td>\n",
       "      <td>0.007263</td>\n",
       "    </tr>\n",
       "    <tr>\n",
       "      <th>PRON</th>\n",
       "      <td>0.012256</td>\n",
       "      <td>0.072386</td>\n",
       "      <td>0.094217</td>\n",
       "      <td>0.487936</td>\n",
       "      <td>0.009958</td>\n",
       "      <td>0.022214</td>\n",
       "      <td>0.039831</td>\n",
       "      <td>0.033321</td>\n",
       "      <td>0.007277</td>\n",
       "      <td>0.208732</td>\n",
       "      <td>0.007277</td>\n",
       "      <td>0.004596</td>\n",
       "    </tr>\n",
       "    <tr>\n",
       "      <th>NOUN</th>\n",
       "      <td>0.043775</td>\n",
       "      <td>0.011972</td>\n",
       "      <td>0.029269</td>\n",
       "      <td>0.147778</td>\n",
       "      <td>0.013515</td>\n",
       "      <td>0.177488</td>\n",
       "      <td>0.239221</td>\n",
       "      <td>0.017150</td>\n",
       "      <td>0.004811</td>\n",
       "      <td>0.263313</td>\n",
       "      <td>0.009512</td>\n",
       "      <td>0.042196</td>\n",
       "    </tr>\n",
       "    <tr>\n",
       "      <th>NUM</th>\n",
       "      <td>0.026987</td>\n",
       "      <td>0.032984</td>\n",
       "      <td>0.206297</td>\n",
       "      <td>0.017391</td>\n",
       "      <td>0.003298</td>\n",
       "      <td>0.035382</td>\n",
       "      <td>0.119340</td>\n",
       "      <td>0.002999</td>\n",
       "      <td>0.001199</td>\n",
       "      <td>0.354723</td>\n",
       "      <td>0.185607</td>\n",
       "      <td>0.013793</td>\n",
       "    </tr>\n",
       "    <tr>\n",
       "      <th>CONJ</th>\n",
       "      <td>0.005191</td>\n",
       "      <td>0.113261</td>\n",
       "      <td>0.007551</td>\n",
       "      <td>0.159509</td>\n",
       "      <td>0.121756</td>\n",
       "      <td>0.053327</td>\n",
       "      <td>0.034922</td>\n",
       "      <td>0.055215</td>\n",
       "      <td>0.059934</td>\n",
       "      <td>0.346390</td>\n",
       "      <td>0.042473</td>\n",
       "      <td>0.000472</td>\n",
       "    </tr>\n",
       "  </tbody>\n",
       "</table>\n",
       "</div>"
      ],
      "text/plain": [
       "           PRT       ADJ         X  ...      NOUN       NUM      CONJ\n",
       "PRT   0.001978  0.084707  0.013514  ...  0.245550  0.056032  0.001978\n",
       "ADJ   0.010760  0.064559  0.020857  ...  0.701374  0.021354  0.016719\n",
       "X     0.184206  0.016876  0.076262  ...  0.059545  0.002707  0.009871\n",
       "VERB  0.030998  0.065329  0.218304  ...  0.109888  0.022629  0.005425\n",
       "DET   0.000242  0.205897  0.045916  ...  0.636056  0.022354  0.000483\n",
       "ADP   0.001175  0.105117  0.034078  ...  0.325179  0.062280  0.000641\n",
       ".     0.002447  0.044869  0.027375  ...  0.219634  0.079405  0.058013\n",
       "ADV   0.013536  0.131066  0.023110  ...  0.030373  0.031694  0.007263\n",
       "PRON  0.012256  0.072386  0.094217  ...  0.208732  0.007277  0.004596\n",
       "NOUN  0.043775  0.011972  0.029269  ...  0.263313  0.009512  0.042196\n",
       "NUM   0.026987  0.032984  0.206297  ...  0.354723  0.185607  0.013793\n",
       "CONJ  0.005191  0.113261  0.007551  ...  0.346390  0.042473  0.000472\n",
       "\n",
       "[12 rows x 12 columns]"
      ]
     },
     "execution_count": 12,
     "metadata": {
      "tags": []
     },
     "output_type": "execute_result"
    }
   ],
   "source": [
    "tags_df"
   ]
  },
  {
   "cell_type": "code",
   "execution_count": 13,
   "metadata": {
    "colab": {
     "base_uri": "https://localhost:8080/",
     "height": 487
    },
    "id": "AD0quPuX_FCw",
    "outputId": "a30df833-d0e1-46e0-954a-8b3ee3cbe6e0"
   },
   "outputs": [
    {
     "data": {
      "image/png": "[encoded data removed]",
      "text/plain": [
       "<Figure size 864x576 with 2 Axes>"
      ]
     },
     "metadata": {
      "needs_background": "light",
      "tags": []
     },
     "output_type": "display_data"
    }
   ],
   "source": [
    "plt.figure(figsize=(12,8))\n",
    "sns.heatmap(tags_df.corr(),annot=True)\n",
    "plt.show()"
   ]
  },
  {
   "cell_type": "code",
   "execution_count": 14,
   "metadata": {
    "colab": {
     "base_uri": "https://localhost:8080/",
     "height": 700
    },
    "id": "Lwq619bU_S_j",
    "outputId": "ca14ec8b-213d-49d8-f736-f1e41a47d845"
   },
   "outputs": [
    {
     "data": {
      "image/png": "[encoded data removed]",
      "text/plain": [
       "<Figure size 1296x864 with 2 Axes>"
      ]
     },
     "metadata": {
      "needs_background": "light",
      "tags": []
     },
     "output_type": "display_data"
    }
   ],
   "source": [
    "# frequent tags\n",
    "# filter the df to get P(t2, t1) > 0.5\n",
    "tags_frequent = tags_df[tags_df>0.5]\n",
    "plt.figure(figsize=(18, 12))\n",
    "sns.heatmap(tags_frequent)\n",
    "plt.show()"
   ]
  },
  {
   "cell_type": "markdown",
   "metadata": {
    "id": "yRne7xtOkYtL"
   },
   "source": [
    "### Build the vanilla Viterbi based POS tagger"
   ]
  },
  {
   "cell_type": "code",
   "execution_count": 15,
   "metadata": {
    "id": "ZxPcA4aHkYtL"
   },
   "outputs": [],
   "source": [
    "# Viterbi Heuristic\n",
    "def vanillaViterbi(words, train_bag = tagged_words_train):\n",
    "    state = []\n",
    "\n",
    "    tags_list = list(set([pair[1] for pair in train_bag]))\n",
    "    \n",
    "    for key, word in enumerate(words):\n",
    "        #initialise list of probability column for a given observation\n",
    "        probability_list = [] \n",
    "        for tag in tags_list:\n",
    "            if key == 0:\n",
    "                transition_p = tags_df.loc['.', tag]\n",
    "            else:\n",
    "                transition_p = tags_df.loc[state[-1], tag]\n",
    "                \n",
    "            # compute emission and state probabilities\n",
    "            emission_p = emmisionProbability(words[key], tag)[0]/emmisionProbability(words[key], tag)[1]\n",
    "            state_probability = emission_p * transition_p    \n",
    "            probability_list.append(state_probability)\n",
    "            \n",
    "        max_probability = max(probability_list)\n",
    "\n",
    "        # getting state for which probability is maximum\n",
    "        state_max = tags_list[probability_list.index(max_probability)] \n",
    "        state.append(state_max)\n",
    "\n",
    "    return list(zip(words, state))\n"
   ]
  },
  {
   "cell_type": "code",
   "execution_count": 16,
   "metadata": {
    "id": "F--L7cp6kYtN"
   },
   "outputs": [],
   "source": [
    "# Testing the vanilla Viterbi on sample test set\n",
    "# To reduce the computation time, only 20 random sentences from the test_set are taken\n",
    "random.seed(234)\n",
    "\n",
    "numbers = [random.randint(1, len(test_set)) for x in range(20)]\n",
    "\n",
    "sentences = [test_set[i] for i in numbers]\n",
    "\n",
    "# Storing the list of tagged words\n",
    "word_tag_validation = [tup for sent in sentences for tup in sent]\n",
    "\n",
    "# Storing the untagged words\n",
    "untagged_words = [tup[0] for sent in sentences for tup in sent]"
   ]
  },
  {
   "cell_type": "code",
   "execution_count": 17,
   "metadata": {
    "colab": {
     "base_uri": "https://localhost:8080/",
     "height": 34
    },
    "id": "XUMeQtQoo9bH",
    "outputId": "9e179a0d-efd9-445b-ca61-63d7e5c96894"
   },
   "outputs": [
    {
     "name": "stdout",
     "output_type": "stream",
     "text": [
      "Time taken in seconds:  92.51577425003052\n"
     ]
    }
   ],
   "source": [
    "# Tagging the test sentences using vanilla viterbi\n",
    "start = time.time()\n",
    "tagged_seq = vanillaViterbi(untagged_words)\n",
    "end = time.time()\n",
    "difference = end-start\n",
    "\n",
    "print(\"Time taken in seconds: \", difference)\n"
   ]
  },
  {
   "cell_type": "code",
   "execution_count": 18,
   "metadata": {
    "colab": {
     "base_uri": "https://localhost:8080/",
     "height": 71
    },
    "id": "5S6Nxu0hpTYV",
    "outputId": "bf48e364-f64f-4390-abba-9dffaf3ce196"
   },
   "outputs": [
    {
     "name": "stdout",
     "output_type": "stream",
     "text": [
      "['They', 'succeed', 'Daniel', 'M.', 'Rexinger', ',', 'retired', 'Circuit', 'City', 'executive', 'vice', 'president', ',', 'and', 'Robert', 'R.', 'Glauber', ',', 'U.S.', 'Treasury', 'undersecretary', ',', 'on', 'the', '12-member', 'board', '.', 'Miami', 'Dolphins', 'owner', 'Joe', 'Robbie', 'disagrees', ',', 'and', 'he', 'can', 'prove', 'it', '.', 'American', 'Express', 'also', 'represents', 'the', 'upscale', 'image', '0', '``', 'we', \"'re\", 'trying', '*-2', 'to', 'project', '*T*-1', ',', \"''\", 'she', 'adds', '*T*-3', '.', 'A', 'majority', 'of', 'an', 'NIH-appointed', 'panel', 'recommended', 'late', 'last', 'year', 'that', 'the', 'research', 'continue', 'under', 'carefully', 'controlled', 'conditions', ',', 'but', 'the', 'issue', 'became', 'embroiled', '*-2', 'in', 'politics', 'as', 'anti-abortion', 'groups', 'continued', '*-3', 'to', 'oppose', 'federal', 'funding', '.', 'Both', 'contracts', 'have', 'gained', 'a', 'following', 'since', 'the', '1987', 'global', 'market', 'crash', '.', 'In', 'an', 'interview', ',', 'Donald', 'Beall', ',', 'chairman', ',', 'said', '0', 'first-half', 'profit', 'certainly', 'would', 'trail', 'the', 'past', 'year', \"'s\", ',', 'primarily', 'because', 'of', 'weakness', 'in', 'the', 'heavy-truck', 'and', 'passenger-car', 'markets', '.', 'He', 'said', 'that', 'for', 'the', 'second', 'month', 'in', 'a', 'row', ',', 'food', 'processors', 'reported', 'a', 'shortage', 'of', 'nonfat', 'dry', 'milk', '.', 'The', 'company', 'forecast', 'that', 'fourth-quarter', 'income', 'from', 'continuing', 'operations', 'would', 'be', '``', 'significantly', \"''\", 'lower', 'than', 'a', 'year', 'earlier', '.', 'Nissan', 'Motor', 'Co.', ',', 'Japan', \"'s\", 'second-largest', 'car', 'maker', ',', 'announced', 'Wednesday', 'that', 'the', 'parent', 'concern', \"'s\", 'pretax', 'earnings', 'in', 'the', 'first', 'half', 'ended', 'last', 'Sept.', '30', 'rose', '14', '%', 'to', '88.32', 'billion', 'yen', '-LRB-', '$', '618.1', 'million', '*U*', '-RRB-', 'from', '77.6', 'billion', 'yen', 'a', 'year', 'earlier', '.', '*', 'Pick', 'a', 'country', ',', 'any', 'country', '.', 'FEDERAL', 'NATIONAL', 'MORTGAGE', 'ASSOCIATION', '-LRB-', 'Fannie', 'Mae', '-RRB-', ':', 'Posted', 'yields', 'on', '30', 'year', 'mortgage', 'commitments', 'for', 'delivery', 'within', '30', 'days', '-LRB-', 'priced', '*', 'at', 'par', '-RRB-', '9.75', '%', ',', 'standard', 'conventional', 'fixed-rate', 'mortgages', ';', '8.70', '%', ',', '6\\\\/2', 'rate', 'capped', 'one-year', 'adjustable', 'rate', 'mortgages', '.', '``', 'The', 'average', 'household', 'will', 'spread', '19', 'accounts', 'over', 'a', 'dozen', 'financial', 'institutions', ',', \"''\", 'says', '*T*-1', 'Michael', 'P.', 'Sullivan', ',', 'who', '*T*-203', 'runs', 'his', 'own', 'bank', 'consulting', 'firm', 'in', 'Charlotte', ',', 'N.C', '.', 'Prime', 'Motor', 'Inns', 'Inc.', ',', 'offering', 'of', 'up', 'to', '$', '300', 'million', '*U*', 'zero', 'coupon', 'convertible', 'debentures', ',', 'via', 'Drexel', 'Burnham', 'Lambert', 'Inc.', 'and', 'Montgomery', 'Securities', '.', 'By', '*-3', 'using', 'them', ',', 'teachers', '--', 'with', 'administrative', 'blessing', '--', 'telegraph', 'to', 'students', 'beforehand', 'the', 'precise', 'areas', 'on', 'which', 'a', 'test', 'will', 'concentrate', '*T*-1', ',', 'and', 'sometimes', 'give', 'away', 'a', 'few', 'exact', 'questions', 'and', 'answers', '.', 'They', 'are', 'still', 'trying', '*-1', 'to', 'lure', 'back', 'small', 'investors', 'spooked', '*', 'by', 'the', '1987', 'stock-market', 'crash', 'and', 'the', 'market', \"'s\", 'swings', 'since', 'then', '.', 'Miami', 'Dolphins', 'owner', 'Joe', 'Robbie', 'disagrees', ',', 'and', 'he', 'can', 'prove', 'it', '.', 'National', 'Tyre', ',', 'which', '*T*-1', 'has', '420', 'branches', 'throughout', 'the', 'U.K.', ',', 'had', '1988', 'pretax', 'profit', 'of', '#', '8.5', 'million', '*U*', '.', 'The', 'insurance', 'and', 'financial', 'services', 'concern', 'said', '0', 'profit', 'for', 'the', 'quarter', 'rose', '1.1', '%', 'to', '$', '93.9', 'million', '*U*', ',', 'or', '$', '1.19', '*U*', 'a', 'share', ',', 'compared', 'with', '$', '92.9', 'million', '*U*', ',', 'or', '$', '1.18', '*U*', 'a', 'share', ',', 'the', 'year', 'earlier', '.', 'The', 'theory', 'was', 'that', 'the', 'Voice', 'is', 'a', 'propaganda', 'agency', 'and', 'this', 'government', 'should', \"n't\", 'propagandize', 'its', 'own', 'people', '.', 'The', 'move', 'is', 'designed', '*-1', '*-2', 'to', 'ward', 'off', 'a', 'hostile', 'takeover', 'attempt', 'by', 'two', 'European', 'shipping', 'concerns', ',', 'Stena', 'Holding', 'AG', 'and', 'Tiphook', 'PLC', '.']\n",
      "[('They', 'PRON'), ('succeed', 'VERB'), ('Daniel', 'NOUN'), ('M.', 'NOUN'), ('Rexinger', 'PRT'), (',', '.'), ('retired', 'VERB'), ('Circuit', 'PRT'), ('City', 'NOUN'), ('executive', 'NOUN'), ('vice', 'NOUN'), ('president', 'NOUN'), (',', '.'), ('and', 'CONJ'), ('Robert', 'NOUN'), ('R.', 'NOUN'), ('Glauber', 'PRT'), (',', '.'), ('U.S.', 'NOUN'), ('Treasury', 'NOUN'), ('undersecretary', 'NOUN'), (',', '.'), ('on', 'ADP'), ('the', 'DET'), ('12-member', 'PRT'), ('board', 'NOUN'), ('.', '.'), ('Miami', 'NOUN'), ('Dolphins', 'PRT'), ('owner', 'NOUN'), ('Joe', 'NOUN'), ('Robbie', 'NOUN'), ('disagrees', 'PRT'), (',', '.'), ('and', 'CONJ'), ('he', 'PRON'), ('can', 'VERB'), ('prove', 'VERB'), ('it', 'PRON'), ('.', '.'), ('American', 'NOUN'), ('Express', 'NOUN'), ('also', 'ADV'), ('represents', 'VERB'), ('the', 'DET'), ('upscale', 'ADJ'), ('image', 'NOUN'), ('0', 'X'), ('``', '.'), ('we', 'PRON'), (\"'re\", 'VERB'), ('trying', 'VERB'), ('*-2', 'X'), ('to', 'PRT'), ('project', 'NOUN'), ('*T*-1', 'X'), (',', '.'), (\"''\", '.'), ('she', 'PRON'), ('adds', 'VERB'), ('*T*-3', 'X'), ('.', '.'), ('A', 'DET'), ('majority', 'NOUN'), ('of', 'ADP'), ('an', 'DET'), ('NIH-appointed', 'PRT'), ('panel', 'NOUN'), ('recommended', 'PRT'), ('late', 'ADJ'), ('last', 'ADJ'), ('year', 'NOUN'), ('that', 'ADP'), ('the', 'DET'), ('research', 'NOUN'), ('continue', 'VERB'), ('under', 'ADP'), ('carefully', 'PRT'), ('controlled', 'VERB'), ('conditions', 'NOUN'), (',', '.'), ('but', 'CONJ'), ('the', 'DET'), ('issue', 'NOUN'), ('became', 'VERB'), ('embroiled', 'PRT'), ('*-2', 'X'), ('in', 'ADP'), ('politics', 'NOUN'), ('as', 'ADP'), ('anti-abortion', 'PRT'), ('groups', 'NOUN'), ('continued', 'VERB'), ('*-3', 'X'), ('to', 'PRT'), ('oppose', 'VERB'), ('federal', 'ADJ'), ('funding', 'NOUN'), ('.', '.'), ('Both', 'DET'), ('contracts', 'NOUN'), ('have', 'VERB'), ('gained', 'VERB'), ('a', 'DET'), ('following', 'VERB'), ('since', 'ADP'), ('the', 'DET'), ('1987', 'NUM'), ('global', 'ADJ'), ('market', 'NOUN'), ('crash', 'NOUN'), ('.', '.'), ('In', 'ADP'), ('an', 'DET'), ('interview', 'NOUN'), (',', '.'), ('Donald', 'NOUN'), ('Beall', 'NOUN'), (',', '.'), ('chairman', 'NOUN'), (',', '.'), ('said', 'VERB'), ('0', 'X'), ('first-half', 'ADJ'), ('profit', 'NOUN'), ('certainly', 'ADV'), ('would', 'VERB'), ('trail', 'PRT'), ('the', 'DET'), ('past', 'ADJ'), ('year', 'NOUN'), (\"'s\", 'PRT'), (',', '.'), ('primarily', 'ADV'), ('because', 'ADP'), ('of', 'ADP'), ('weakness', 'NOUN'), ('in', 'ADP'), ('the', 'DET'), ('heavy-truck', 'PRT'), ('and', 'CONJ'), ('passenger-car', 'PRT'), ('markets', 'NOUN'), ('.', '.'), ('He', 'PRON'), ('said', 'VERB'), ('that', 'ADP'), ('for', 'ADP'), ('the', 'DET'), ('second', 'ADJ'), ('month', 'NOUN'), ('in', 'ADP'), ('a', 'DET'), ('row', 'NOUN'), (',', '.'), ('food', 'NOUN'), ('processors', 'NOUN'), ('reported', 'VERB'), ('a', 'DET'), ('shortage', 'NOUN'), ('of', 'ADP'), ('nonfat', 'PRT'), ('dry', 'ADJ'), ('milk', 'NOUN'), ('.', '.'), ('The', 'DET'), ('company', 'NOUN'), ('forecast', 'NOUN'), ('that', 'ADP'), ('fourth-quarter', 'NOUN'), ('income', 'NOUN'), ('from', 'ADP'), ('continuing', 'VERB'), ('operations', 'NOUN'), ('would', 'VERB'), ('be', 'VERB'), ('``', '.'), ('significantly', 'ADV'), (\"''\", '.'), ('lower', 'ADJ'), ('than', 'ADP'), ('a', 'DET'), ('year', 'NOUN'), ('earlier', 'ADV'), ('.', '.'), ('Nissan', 'NOUN'), ('Motor', 'NOUN'), ('Co.', 'NOUN'), (',', '.'), ('Japan', 'NOUN'), (\"'s\", 'PRT'), ('second-largest', 'ADJ'), ('car', 'NOUN'), ('maker', 'NOUN'), (',', '.'), ('announced', 'VERB'), ('Wednesday', 'NOUN'), ('that', 'ADP'), ('the', 'DET'), ('parent', 'NOUN'), ('concern', 'NOUN'), (\"'s\", 'PRT'), ('pretax', 'NOUN'), ('earnings', 'NOUN'), ('in', 'ADP'), ('the', 'DET'), ('first', 'ADJ'), ('half', 'NOUN'), ('ended', 'VERB'), ('last', 'ADJ'), ('Sept.', 'NOUN'), ('30', 'NUM'), ('rose', 'VERB'), ('14', 'NUM'), ('%', 'NOUN'), ('to', 'PRT'), ('88.32', 'PRT'), ('billion', 'NUM'), ('yen', 'NOUN'), ('-LRB-', '.'), ('$', '.'), ('618.1', 'PRT'), ('million', 'NUM'), ('*U*', 'X'), ('-RRB-', '.'), ('from', 'ADP'), ('77.6', 'PRT'), ('billion', 'NUM'), ('yen', 'NOUN'), ('a', 'DET'), ('year', 'NOUN'), ('earlier', 'ADV'), ('.', '.'), ('*', 'X'), ('Pick', 'PRT'), ('a', 'DET'), ('country', 'NOUN'), (',', '.'), ('any', 'DET'), ('country', 'NOUN'), ('.', '.'), ('FEDERAL', 'NOUN'), ('NATIONAL', 'PRT'), ('MORTGAGE', 'NOUN'), ('ASSOCIATION', 'PRT'), ('-LRB-', '.'), ('Fannie', 'NOUN'), ('Mae', 'NOUN'), ('-RRB-', '.'), (':', '.'), ('Posted', 'VERB'), ('yields', 'NOUN'), ('on', 'ADP'), ('30', 'NUM'), ('year', 'NOUN'), ('mortgage', 'NOUN'), ('commitments', 'NOUN'), ('for', 'ADP'), ('delivery', 'NOUN'), ('within', 'ADP'), ('30', 'NUM'), ('days', 'NOUN'), ('-LRB-', '.'), ('priced', 'VERB'), ('*', 'X'), ('at', 'ADP'), ('par', 'NOUN'), ('-RRB-', '.'), ('9.75', 'PRT'), ('%', 'NOUN'), (',', '.'), ('standard', 'ADJ'), ('conventional', 'ADJ'), ('fixed-rate', 'ADJ'), ('mortgages', 'NOUN'), (';', '.'), ('8.70', 'PRT'), ('%', 'NOUN'), (',', '.'), ('6\\\\/2', 'PRT'), ('rate', 'NOUN'), ('capped', 'VERB'), ('one-year', 'ADJ'), ('adjustable', 'ADJ'), ('rate', 'NOUN'), ('mortgages', 'NOUN'), ('.', '.'), ('``', '.'), ('The', 'DET'), ('average', 'ADJ'), ('household', 'NOUN'), ('will', 'VERB'), ('spread', 'VERB'), ('19', 'NUM'), ('accounts', 'NOUN'), ('over', 'ADP'), ('a', 'DET'), ('dozen', 'NOUN'), ('financial', 'ADJ'), ('institutions', 'NOUN'), (',', '.'), (\"''\", '.'), ('says', 'VERB'), ('*T*-1', 'X'), ('Michael', 'NOUN'), ('P.', 'NOUN'), ('Sullivan', 'NOUN'), (',', '.'), ('who', 'PRON'), ('*T*-203', 'PRT'), ('runs', 'VERB'), ('his', 'PRON'), ('own', 'ADJ'), ('bank', 'NOUN'), ('consulting', 'NOUN'), ('firm', 'NOUN'), ('in', 'ADP'), ('Charlotte', 'NOUN'), (',', '.'), ('N.C', 'NOUN'), ('.', '.'), ('Prime', 'NOUN'), ('Motor', 'NOUN'), ('Inns', 'PRT'), ('Inc.', 'NOUN'), (',', '.'), ('offering', 'NOUN'), ('of', 'ADP'), ('up', 'ADV'), ('to', 'PRT'), ('$', '.'), ('300', 'NUM'), ('million', 'NUM'), ('*U*', 'X'), ('zero', 'PRT'), ('coupon', 'NOUN'), ('convertible', 'ADJ'), ('debentures', 'NOUN'), (',', '.'), ('via', 'ADP'), ('Drexel', 'NOUN'), ('Burnham', 'NOUN'), ('Lambert', 'NOUN'), ('Inc.', 'NOUN'), ('and', 'CONJ'), ('Montgomery', 'PRT'), ('Securities', 'NOUN'), ('.', '.'), ('By', 'ADP'), ('*-3', 'X'), ('using', 'VERB'), ('them', 'PRON'), (',', '.'), ('teachers', 'NOUN'), ('--', '.'), ('with', 'ADP'), ('administrative', 'ADJ'), ('blessing', 'NOUN'), ('--', '.'), ('telegraph', 'PRT'), ('to', 'PRT'), ('students', 'NOUN'), ('beforehand', 'PRT'), ('the', 'DET'), ('precise', 'PRT'), ('areas', 'NOUN'), ('on', 'ADP'), ('which', 'DET'), ('a', 'DET'), ('test', 'NOUN'), ('will', 'VERB'), ('concentrate', 'VERB'), ('*T*-1', 'X'), (',', '.'), ('and', 'CONJ'), ('sometimes', 'ADV'), ('give', 'VERB'), ('away', 'ADV'), ('a', 'DET'), ('few', 'ADJ'), ('exact', 'ADJ'), ('questions', 'NOUN'), ('and', 'CONJ'), ('answers', 'NOUN'), ('.', '.'), ('They', 'PRON'), ('are', 'VERB'), ('still', 'ADV'), ('trying', 'VERB'), ('*-1', 'X'), ('to', 'PRT'), ('lure', 'VERB'), ('back', 'ADV'), ('small', 'ADJ'), ('investors', 'NOUN'), ('spooked', 'PRT'), ('*', 'X'), ('by', 'ADP'), ('the', 'DET'), ('1987', 'NUM'), ('stock-market', 'NOUN'), ('crash', 'NOUN'), ('and', 'CONJ'), ('the', 'DET'), ('market', 'NOUN'), (\"'s\", 'PRT'), ('swings', 'NOUN'), ('since', 'ADP'), ('then', 'ADV'), ('.', '.'), ('Miami', 'NOUN'), ('Dolphins', 'PRT'), ('owner', 'NOUN'), ('Joe', 'NOUN'), ('Robbie', 'NOUN'), ('disagrees', 'PRT'), (',', '.'), ('and', 'CONJ'), ('he', 'PRON'), ('can', 'VERB'), ('prove', 'VERB'), ('it', 'PRON'), ('.', '.'), ('National', 'NOUN'), ('Tyre', 'NOUN'), (',', '.'), ('which', 'DET'), ('*T*-1', 'X'), ('has', 'VERB'), ('420', 'PRT'), ('branches', 'NOUN'), ('throughout', 'ADP'), ('the', 'DET'), ('U.K.', 'NOUN'), (',', '.'), ('had', 'VERB'), ('1988', 'NUM'), ('pretax', 'NOUN'), ('profit', 'NOUN'), ('of', 'ADP'), ('#', '.'), ('8.5', 'NUM'), ('million', 'NUM'), ('*U*', 'X'), ('.', '.'), ('The', 'DET'), ('insurance', 'NOUN'), ('and', 'CONJ'), ('financial', 'ADJ'), ('services', 'NOUN'), ('concern', 'NOUN'), ('said', 'VERB'), ('0', 'X'), ('profit', 'NOUN'), ('for', 'ADP'), ('the', 'DET'), ('quarter', 'NOUN'), ('rose', 'VERB'), ('1.1', 'NUM'), ('%', 'NOUN'), ('to', 'PRT'), ('$', '.'), ('93.9', 'PRT'), ('million', 'NUM'), ('*U*', 'X'), (',', '.'), ('or', 'CONJ'), ('$', '.'), ('1.19', 'PRT'), ('*U*', 'X'), ('a', 'DET'), ('share', 'NOUN'), (',', '.'), ('compared', 'VERB'), ('with', 'ADP'), ('$', '.'), ('92.9', 'PRT'), ('million', 'NUM'), ('*U*', 'X'), (',', '.'), ('or', 'CONJ'), ('$', '.'), ('1.18', 'PRT'), ('*U*', 'X'), ('a', 'DET'), ('share', 'NOUN'), (',', '.'), ('the', 'DET'), ('year', 'NOUN'), ('earlier', 'ADV'), ('.', '.'), ('The', 'DET'), ('theory', 'NOUN'), ('was', 'VERB'), ('that', 'ADP'), ('the', 'DET'), ('Voice', 'NOUN'), ('is', 'VERB'), ('a', 'DET'), ('propaganda', 'NOUN'), ('agency', 'NOUN'), ('and', 'CONJ'), ('this', 'DET'), ('government', 'NOUN'), ('should', 'VERB'), (\"n't\", 'ADV'), ('propagandize', 'PRT'), ('its', 'PRON'), ('own', 'ADJ'), ('people', 'NOUN'), ('.', '.'), ('The', 'DET'), ('move', 'NOUN'), ('is', 'VERB'), ('designed', 'VERB'), ('*-1', 'X'), ('*-2', 'X'), ('to', 'PRT'), ('ward', 'VERB'), ('off', 'PRT'), ('a', 'DET'), ('hostile', 'NOUN'), ('takeover', 'NOUN'), ('attempt', 'NOUN'), ('by', 'ADP'), ('two', 'NUM'), ('European', 'ADJ'), ('shipping', 'NOUN'), ('concerns', 'NOUN'), (',', '.'), ('Stena', 'NOUN'), ('Holding', 'NOUN'), ('AG', 'NOUN'), ('and', 'CONJ'), ('Tiphook', 'NOUN'), ('PLC', 'NOUN'), ('.', '.')]\n"
     ]
    }
   ],
   "source": [
    "print(untagged_words)\n",
    "print(tagged_seq)"
   ]
  },
  {
   "cell_type": "code",
   "execution_count": 19,
   "metadata": {
    "colab": {
     "base_uri": "https://localhost:8080/",
     "height": 34
    },
    "id": "hsJUDrl8oTXS",
    "outputId": "7c5afc04-aec7-4eed-a16f-f8d63b8ce2d0"
   },
   "outputs": [
    {
     "name": "stdout",
     "output_type": "stream",
     "text": [
      "0.8975791433891993\n"
     ]
    }
   ],
   "source": [
    "# Evalutating the accuracy of Vanilla Viterbi\n",
    "check = [i for i, j in zip(tagged_seq, word_tag_validation) if i == j]\n",
    "accuracy = len(check)/len(tagged_seq)\n",
    "print(accuracy)"
   ]
  },
  {
   "cell_type": "code",
   "execution_count": 20,
   "metadata": {
    "colab": {
     "base_uri": "https://localhost:8080/",
     "height": 54
    },
    "id": "qPkh4gkrp3Zu",
    "outputId": "ba8726f5-1bad-4324-8974-ba3e39faa36f"
   },
   "outputs": [
    {
     "name": "stdout",
     "output_type": "stream",
     "text": [
      "[('They', 'PRON'), ('succeed', 'VERB'), ('Daniel', 'NOUN'), ('M.', 'NOUN'), ('Rexinger', 'PRT'), (',', '.'), ('retired', 'VERB'), ('Circuit', 'PRT'), ('City', 'NOUN'), ('executive', 'NOUN'), ('vice', 'NOUN'), ('president', 'NOUN'), (',', '.'), ('and', 'CONJ'), ('Robert', 'NOUN'), ('R.', 'NOUN'), ('Glauber', 'PRT'), (',', '.'), ('U.S.', 'NOUN'), ('Treasury', 'NOUN'), ('undersecretary', 'NOUN'), (',', '.'), ('on', 'ADP'), ('the', 'DET'), ('12-member', 'PRT'), ('board', 'NOUN'), ('.', '.'), ('Miami', 'NOUN'), ('Dolphins', 'PRT'), ('owner', 'NOUN'), ('Joe', 'NOUN'), ('Robbie', 'NOUN'), ('disagrees', 'PRT'), (',', '.'), ('and', 'CONJ'), ('he', 'PRON'), ('can', 'VERB'), ('prove', 'VERB'), ('it', 'PRON'), ('.', '.'), ('American', 'NOUN'), ('Express', 'NOUN'), ('also', 'ADV'), ('represents', 'VERB'), ('the', 'DET'), ('upscale', 'ADJ'), ('image', 'NOUN'), ('0', 'X'), ('``', '.'), ('we', 'PRON'), (\"'re\", 'VERB'), ('trying', 'VERB'), ('*-2', 'X'), ('to', 'PRT'), ('project', 'NOUN'), ('*T*-1', 'X'), (',', '.'), (\"''\", '.'), ('she', 'PRON'), ('adds', 'VERB'), ('*T*-3', 'X'), ('.', '.'), ('A', 'DET'), ('majority', 'NOUN'), ('of', 'ADP'), ('an', 'DET'), ('NIH-appointed', 'PRT'), ('panel', 'NOUN'), ('recommended', 'PRT'), ('late', 'ADJ'), ('last', 'ADJ'), ('year', 'NOUN'), ('that', 'ADP'), ('the', 'DET'), ('research', 'NOUN'), ('continue', 'VERB'), ('under', 'ADP'), ('carefully', 'PRT'), ('controlled', 'VERB'), ('conditions', 'NOUN'), (',', '.'), ('but', 'CONJ'), ('the', 'DET'), ('issue', 'NOUN'), ('became', 'VERB'), ('embroiled', 'PRT'), ('*-2', 'X'), ('in', 'ADP'), ('politics', 'NOUN'), ('as', 'ADP'), ('anti-abortion', 'PRT'), ('groups', 'NOUN'), ('continued', 'VERB'), ('*-3', 'X'), ('to', 'PRT'), ('oppose', 'VERB'), ('federal', 'ADJ'), ('funding', 'NOUN'), ('.', '.'), ('Both', 'DET'), ('contracts', 'NOUN'), ('have', 'VERB'), ('gained', 'VERB'), ('a', 'DET'), ('following', 'VERB'), ('since', 'ADP'), ('the', 'DET'), ('1987', 'NUM'), ('global', 'ADJ'), ('market', 'NOUN'), ('crash', 'NOUN'), ('.', '.'), ('In', 'ADP'), ('an', 'DET'), ('interview', 'NOUN'), (',', '.'), ('Donald', 'NOUN'), ('Beall', 'NOUN'), (',', '.'), ('chairman', 'NOUN'), (',', '.'), ('said', 'VERB'), ('0', 'X'), ('first-half', 'ADJ'), ('profit', 'NOUN'), ('certainly', 'ADV'), ('would', 'VERB'), ('trail', 'PRT'), ('the', 'DET'), ('past', 'ADJ'), ('year', 'NOUN'), (\"'s\", 'PRT'), (',', '.'), ('primarily', 'ADV'), ('because', 'ADP'), ('of', 'ADP'), ('weakness', 'NOUN'), ('in', 'ADP'), ('the', 'DET'), ('heavy-truck', 'PRT'), ('and', 'CONJ'), ('passenger-car', 'PRT'), ('markets', 'NOUN'), ('.', '.'), ('He', 'PRON'), ('said', 'VERB'), ('that', 'ADP'), ('for', 'ADP'), ('the', 'DET'), ('second', 'ADJ'), ('month', 'NOUN'), ('in', 'ADP'), ('a', 'DET'), ('row', 'NOUN'), (',', '.'), ('food', 'NOUN'), ('processors', 'NOUN'), ('reported', 'VERB'), ('a', 'DET'), ('shortage', 'NOUN'), ('of', 'ADP'), ('nonfat', 'PRT'), ('dry', 'ADJ'), ('milk', 'NOUN'), ('.', '.'), ('The', 'DET'), ('company', 'NOUN'), ('forecast', 'NOUN'), ('that', 'ADP'), ('fourth-quarter', 'NOUN'), ('income', 'NOUN'), ('from', 'ADP'), ('continuing', 'VERB'), ('operations', 'NOUN'), ('would', 'VERB'), ('be', 'VERB'), ('``', '.'), ('significantly', 'ADV'), (\"''\", '.'), ('lower', 'ADJ'), ('than', 'ADP'), ('a', 'DET'), ('year', 'NOUN'), ('earlier', 'ADV'), ('.', '.'), ('Nissan', 'NOUN'), ('Motor', 'NOUN'), ('Co.', 'NOUN'), (',', '.'), ('Japan', 'NOUN'), (\"'s\", 'PRT'), ('second-largest', 'ADJ'), ('car', 'NOUN'), ('maker', 'NOUN'), (',', '.'), ('announced', 'VERB'), ('Wednesday', 'NOUN'), ('that', 'ADP'), ('the', 'DET'), ('parent', 'NOUN'), ('concern', 'NOUN'), (\"'s\", 'PRT'), ('pretax', 'NOUN'), ('earnings', 'NOUN'), ('in', 'ADP'), ('the', 'DET'), ('first', 'ADJ'), ('half', 'NOUN'), ('ended', 'VERB'), ('last', 'ADJ'), ('Sept.', 'NOUN'), ('30', 'NUM'), ('rose', 'VERB'), ('14', 'NUM'), ('%', 'NOUN'), ('to', 'PRT'), ('88.32', 'PRT'), ('billion', 'NUM'), ('yen', 'NOUN'), ('-LRB-', '.'), ('$', '.'), ('618.1', 'PRT'), ('million', 'NUM'), ('*U*', 'X'), ('-RRB-', '.'), ('from', 'ADP'), ('77.6', 'PRT'), ('billion', 'NUM'), ('yen', 'NOUN'), ('a', 'DET'), ('year', 'NOUN'), ('earlier', 'ADV'), ('.', '.'), ('*', 'X'), ('Pick', 'PRT'), ('a', 'DET'), ('country', 'NOUN'), (',', '.'), ('any', 'DET'), ('country', 'NOUN'), ('.', '.'), ('FEDERAL', 'NOUN'), ('NATIONAL', 'PRT'), ('MORTGAGE', 'NOUN'), ('ASSOCIATION', 'PRT'), ('-LRB-', '.'), ('Fannie', 'NOUN'), ('Mae', 'NOUN'), ('-RRB-', '.'), (':', '.'), ('Posted', 'VERB'), ('yields', 'NOUN'), ('on', 'ADP'), ('30', 'NUM'), ('year', 'NOUN'), ('mortgage', 'NOUN'), ('commitments', 'NOUN'), ('for', 'ADP'), ('delivery', 'NOUN'), ('within', 'ADP'), ('30', 'NUM'), ('days', 'NOUN'), ('-LRB-', '.'), ('priced', 'VERB'), ('*', 'X'), ('at', 'ADP'), ('par', 'NOUN'), ('-RRB-', '.'), ('9.75', 'PRT'), ('%', 'NOUN'), (',', '.'), ('standard', 'ADJ'), ('conventional', 'ADJ'), ('fixed-rate', 'ADJ'), ('mortgages', 'NOUN'), (';', '.'), ('8.70', 'PRT'), ('%', 'NOUN'), (',', '.'), ('6\\\\/2', 'PRT'), ('rate', 'NOUN'), ('capped', 'VERB'), ('one-year', 'ADJ'), ('adjustable', 'ADJ'), ('rate', 'NOUN'), ('mortgages', 'NOUN'), ('.', '.'), ('``', '.'), ('The', 'DET'), ('average', 'ADJ'), ('household', 'NOUN'), ('will', 'VERB'), ('spread', 'VERB'), ('19', 'NUM'), ('accounts', 'NOUN'), ('over', 'ADP'), ('a', 'DET'), ('dozen', 'NOUN'), ('financial', 'ADJ'), ('institutions', 'NOUN'), (',', '.'), (\"''\", '.'), ('says', 'VERB'), ('*T*-1', 'X'), ('Michael', 'NOUN'), ('P.', 'NOUN'), ('Sullivan', 'NOUN'), (',', '.'), ('who', 'PRON'), ('*T*-203', 'PRT'), ('runs', 'VERB'), ('his', 'PRON'), ('own', 'ADJ'), ('bank', 'NOUN'), ('consulting', 'NOUN'), ('firm', 'NOUN'), ('in', 'ADP'), ('Charlotte', 'NOUN'), (',', '.'), ('N.C', 'NOUN'), ('.', '.'), ('Prime', 'NOUN'), ('Motor', 'NOUN'), ('Inns', 'PRT'), ('Inc.', 'NOUN'), (',', '.'), ('offering', 'NOUN'), ('of', 'ADP'), ('up', 'ADV'), ('to', 'PRT'), ('$', '.'), ('300', 'NUM'), ('million', 'NUM'), ('*U*', 'X'), ('zero', 'PRT'), ('coupon', 'NOUN'), ('convertible', 'ADJ'), ('debentures', 'NOUN'), (',', '.'), ('via', 'ADP'), ('Drexel', 'NOUN'), ('Burnham', 'NOUN'), ('Lambert', 'NOUN'), ('Inc.', 'NOUN'), ('and', 'CONJ'), ('Montgomery', 'PRT'), ('Securities', 'NOUN'), ('.', '.'), ('By', 'ADP'), ('*-3', 'X'), ('using', 'VERB'), ('them', 'PRON'), (',', '.'), ('teachers', 'NOUN'), ('--', '.'), ('with', 'ADP'), ('administrative', 'ADJ'), ('blessing', 'NOUN'), ('--', '.'), ('telegraph', 'PRT'), ('to', 'PRT'), ('students', 'NOUN'), ('beforehand', 'PRT'), ('the', 'DET'), ('precise', 'PRT'), ('areas', 'NOUN'), ('on', 'ADP'), ('which', 'DET'), ('a', 'DET'), ('test', 'NOUN'), ('will', 'VERB'), ('concentrate', 'VERB'), ('*T*-1', 'X'), (',', '.'), ('and', 'CONJ'), ('sometimes', 'ADV'), ('give', 'VERB'), ('away', 'ADV'), ('a', 'DET'), ('few', 'ADJ'), ('exact', 'ADJ'), ('questions', 'NOUN'), ('and', 'CONJ'), ('answers', 'NOUN'), ('.', '.'), ('They', 'PRON'), ('are', 'VERB'), ('still', 'ADV'), ('trying', 'VERB'), ('*-1', 'X'), ('to', 'PRT'), ('lure', 'VERB'), ('back', 'ADV'), ('small', 'ADJ'), ('investors', 'NOUN'), ('spooked', 'PRT'), ('*', 'X'), ('by', 'ADP'), ('the', 'DET'), ('1987', 'NUM'), ('stock-market', 'NOUN'), ('crash', 'NOUN'), ('and', 'CONJ'), ('the', 'DET'), ('market', 'NOUN'), (\"'s\", 'PRT'), ('swings', 'NOUN'), ('since', 'ADP'), ('then', 'ADV'), ('.', '.'), ('Miami', 'NOUN'), ('Dolphins', 'PRT'), ('owner', 'NOUN'), ('Joe', 'NOUN'), ('Robbie', 'NOUN'), ('disagrees', 'PRT'), (',', '.'), ('and', 'CONJ'), ('he', 'PRON'), ('can', 'VERB'), ('prove', 'VERB'), ('it', 'PRON'), ('.', '.'), ('National', 'NOUN'), ('Tyre', 'NOUN'), (',', '.'), ('which', 'DET'), ('*T*-1', 'X'), ('has', 'VERB'), ('420', 'PRT'), ('branches', 'NOUN'), ('throughout', 'ADP'), ('the', 'DET'), ('U.K.', 'NOUN'), (',', '.'), ('had', 'VERB'), ('1988', 'NUM'), ('pretax', 'NOUN'), ('profit', 'NOUN'), ('of', 'ADP'), ('#', '.'), ('8.5', 'NUM'), ('million', 'NUM'), ('*U*', 'X'), ('.', '.'), ('The', 'DET'), ('insurance', 'NOUN'), ('and', 'CONJ'), ('financial', 'ADJ'), ('services', 'NOUN'), ('concern', 'NOUN'), ('said', 'VERB'), ('0', 'X'), ('profit', 'NOUN'), ('for', 'ADP'), ('the', 'DET'), ('quarter', 'NOUN'), ('rose', 'VERB'), ('1.1', 'NUM'), ('%', 'NOUN'), ('to', 'PRT'), ('$', '.'), ('93.9', 'PRT'), ('million', 'NUM'), ('*U*', 'X'), (',', '.'), ('or', 'CONJ'), ('$', '.'), ('1.19', 'PRT'), ('*U*', 'X'), ('a', 'DET'), ('share', 'NOUN'), (',', '.'), ('compared', 'VERB'), ('with', 'ADP'), ('$', '.'), ('92.9', 'PRT'), ('million', 'NUM'), ('*U*', 'X'), (',', '.'), ('or', 'CONJ'), ('$', '.'), ('1.18', 'PRT'), ('*U*', 'X'), ('a', 'DET'), ('share', 'NOUN'), (',', '.'), ('the', 'DET'), ('year', 'NOUN'), ('earlier', 'ADV'), ('.', '.'), ('The', 'DET'), ('theory', 'NOUN'), ('was', 'VERB'), ('that', 'ADP'), ('the', 'DET'), ('Voice', 'NOUN'), ('is', 'VERB'), ('a', 'DET'), ('propaganda', 'NOUN'), ('agency', 'NOUN'), ('and', 'CONJ'), ('this', 'DET'), ('government', 'NOUN'), ('should', 'VERB'), (\"n't\", 'ADV'), ('propagandize', 'PRT'), ('its', 'PRON'), ('own', 'ADJ'), ('people', 'NOUN'), ('.', '.'), ('The', 'DET'), ('move', 'NOUN'), ('is', 'VERB'), ('designed', 'VERB'), ('*-1', 'X'), ('*-2', 'X'), ('to', 'PRT'), ('ward', 'VERB'), ('off', 'PRT'), ('a', 'DET'), ('hostile', 'NOUN'), ('takeover', 'NOUN'), ('attempt', 'NOUN'), ('by', 'ADP'), ('two', 'NUM'), ('European', 'ADJ'), ('shipping', 'NOUN'), ('concerns', 'NOUN'), (',', '.'), ('Stena', 'NOUN'), ('Holding', 'NOUN'), ('AG', 'NOUN'), ('and', 'CONJ'), ('Tiphook', 'NOUN'), ('PLC', 'NOUN'), ('.', '.')]\n"
     ]
    }
   ],
   "source": [
    "# Looking at the incorrectly tagged words\n",
    "incorrectly_tagged_words = [i for i, j in zip(tagged_seq, untagged_words) if i != j]\n",
    "print(incorrectly_tagged_words)"
   ]
  },
  {
   "cell_type": "code",
   "execution_count": 21,
   "metadata": {
    "colab": {
     "base_uri": "https://localhost:8080/",
     "height": 54
    },
    "id": "-W3EcoCaqbaW",
    "outputId": "7097d991-892e-4d5a-c7a3-c681c5c15633"
   },
   "outputs": [
    {
     "name": "stdout",
     "output_type": "stream",
     "text": [
      "['Velcro', '150,000', 'three-digit', 'discouraging', 'compatible', '*-98', 'struggled', '1.39', 'Donuts', 'sparkplugs', 'Prize', 'skittishness', 'marketers', 'worthy', 'Rae', 'High-grade', 'X', '618.1', 'educated', 'literary', 'blender', 'Social', 'shoring', 'spurring', 'Cellars', 'Ricken', 'Deane', '8.70', 'authorized', 'property\\\\/casualty', 'vast', 'Denver', 'newcomer', 'disappear', '188.84', '274', 'single-lot', 'Orville', 'capability', 'invention', 'folio', '35.2', 'Woodcliff', 'la', 'Hale', 'Legislation', 'Joanne', 'alerts', 'Mrs', 'fabricate', 'sight', 'NATIONAL', 'Precious', 'passport', 'Us', 'waivers', 'Phoenix', 'Meinders', 'diverse', 'Kingsbridge', 'Pick', 'hysteria', 'influenced', 'insanity', '150-point', 'downright', 'Wertheim', 'microcomputers', 'Rust', 'thumbs', 'Wamre', 'obtaining', 'relation', 'citation', 'Equivalents', 'Editorials', 'Rita', 'Congressman', '446.62', 'extramarital', 'anywhere', 'academics', '*T*-178', 'buckle', 'Invariably', 'creator', '420', 'Composite', \"O'Neill\", 'Labouisse', '8300s', 'Austria', '0.99', 'architectural', 'five-day', 'industries', '1,620', 'precise', 'overused', 'electrical-safety', 'vineyard', 'embroiled', '550,000', 'Karl', 'brightest', 'Carson', 'tags', 'gamut', 'retractable', 'Elders', 'Baton', 'communication', 'inadequacy', 'Koizumi', '45-a-share', 'Brian', 'classified', '88.32', 'passenger-car', 'Countries', 'transforming', 'importance', '*-97', '8.575', '*T*-203', 'Graham', '1,050,000', 'interior', '534', '1.19', 'correspondence', 'Circuit', '396,000', 'Leon', 'zero', 'shore', 'silicon', 'Warrenton', '84-month', 'chairs', 'Chardonnay', '6\\\\/2', 'Russo', 'sentence', 'thumbing', 'generate', 'Leroy', 'enact', 'Clinton', 'Cole', 'Equity', 'turf', 'Coconut', 'bribing', 'Attorney', 'prefectural', 'Friedrichs', '*T*-172', 'eclipse', 'Mario', 'Woodward', 'Intermec', '15-day', 'Publishers', 'vagrant', 'Nobel', 'Biaggi', 'Napa', '31-year-old', 'top-selling', '*T*-194', 'Chadha', 'mailed', 'Vermont', 'pathlogy', 'Title', 'Pressures', 'Outside', '0.7', 'McFarlan', 'six-bottle', 'carefully', '250,000', 'Grant', 'five-inch', 'beforehand', 'Gelles', 'restraints', 'Chardonnays', 'INGERSOLL-RAND', 'astonishment', 'Wallach', 'Piper', '*-115', '*T*-84', 'newsstands', 'ASSOCIATION', '5.7', 'actress', 'commanded', '2.46', 'outlay', 'Starting', 'trail', 'Meese', 'recommended', 'tag', 'anti-abortion', 'wedded', 'heavy-duty', 'Wakayama', 'implication', 'Packages', 'Gates', 'multiplying', 'Utah', 'unrestricted', 'referrals', 'nonfinancial', 'propagandize', 'businessmen', 'Inns', 'Alexander', 'touchy', 'hunker', '5.39', 'cranked', 'sweatshirts', 'enhances', 'Townes', 'Middlesex', 'nonfat', '*T*-64', 'early-retirement', 'campus', 'wafers', 'soured', 'genuine', '14.75', 'worthiness', 'seven-yen', 'proprietor', 'protections', 'disagrees', 'consistent', 'smooth', '2.42', 'Merrick', 'Exports', 'decorator', 'pressman', 'heavy-truck', 'Corrigan', 'Glauber', '0.54', 'Portugal', 'Monchecourt', 'analyze', 'Miklos', 'La.', 'Aurora', 'Water', 'Walker', 'difficulty', 'rewarding', 'Rexinger', 'INS', 'Midvale', 'more-efficient', 'depended', 'echoed', 'Standing', '77.6', 'one-week', 'Pitcher', 'Remember', '9.75', 'needle-like', '*-165', '93.9', 'Items', 'telegraph', 'incest', 'Purchase', 'Domaine', 'liquidation', 'Pace', 'language-housekeeper', 'Perpetual', 'Level', 'Barrels', 'adapted', '8.65', 'Signet', '80.8', 'small-time', 'car-development', 'Dolphins', 'unpopularity', 'direct-mail', 'Closes', 'mulling', 'multiples', 'Rouge', 'Schroder', 'nine-year', 'Grgich', 'unclear', 'retailers', 'reliance', 'hoopla', 'Jackson', 'Weil', 'high-technology', 'Jaffray', '319.75', 'Montgomery', 'Cross', '92.9', '1.18', 'spooked', 'Satrum', 'deterring', 'shaded', 'varied', 'Troubled', 'Saitama', 'spook', 'dismay', 'Gerhard', '12-member', 'nominal', 'bounce', 'rigid', 'Consider', 'amphobiles', 'convince', '36-minute', 'Place', 'NIH-appointed', 'Hasbrouk', 'superiors', 'Behind', 'Brooke', 'numbered', '90-day', 'Marchese', 'Reached', 'Zenith', 'enabling', 'mitigate', 'Appeals', '467', 'foundering', 'crying', '*T*-136', 'Hayne', 'rusty', '14-hour', 'Christie', 'Toys', 'Howard', 'student-test', 'drag-down', 'coke', 'gifts', 'escape', 'Wilfred', 'indifference', 'truthful', 'powder', 'trivial', 'Barrett', 'hill', 'fabricator', '0.60', 'framework', 'Sandberg', 'affirmative', 'Sangyo', '14.26', 'ensnarled', 'near-record', 'Hopwood', 'Glass', 'Eric', 'black-and-white', '93,000', 'Bridgeville', 'eight-month', 'R', 'vetoes', 'headlined', 'Elsevier', '5.29', 'billionaire', 'discontinuing', 'guarding']\n"
     ]
    }
   ],
   "source": [
    "# Looking at the unknown words present in the entire train and test set\n",
    "\n",
    "vocab_test_set = set([tup[0] for tup in tagged_words_test])\n",
    "vocab_train_set = set([tup[0] for tup in tagged_words_train])\n",
    "\n",
    "all_unknown_words = list(vocab_test_set - vocab_train_set)\n",
    "print(all_unknown_words)"
   ]
  },
  {
   "cell_type": "code",
   "execution_count": 22,
   "metadata": {
    "colab": {
     "base_uri": "https://localhost:8080/",
     "height": 71
    },
    "id": "ChOGe8tJtQSB",
    "outputId": "ac26b3e1-eb10-4f50-c76b-533ab082d623"
   },
   "outputs": [
    {
     "name": "stdout",
     "output_type": "stream",
     "text": [
      "['NIH-appointed', '8.70', 'Rexinger', 'disagrees', '420', '6\\\\/2', 'Pick', '*T*-203', 'Montgomery', '92.9', '1.18', 'carefully', 'spooked', 'propagandize', 'precise', 'Inns', '77.6', 'heavy-truck', 'embroiled', 'beforehand', 'trail', 'recommended', 'anti-abortion', '9.75', 'Glauber', '93.9', 'telegraph', '1.19', 'Dolphins', 'Circuit', 'zero', 'nonfat', '12-member', '618.1', 'ASSOCIATION', '88.32', 'NATIONAL', 'passenger-car']\n",
      "Unknown words count = 38\n"
     ]
    }
   ],
   "source": [
    "vocab_test_set = set([tup for tup in untagged_words])\n",
    "vocab_train_set = set([tup[0] for tup in tagged_words_train])\n",
    "\n",
    "unknown_words = list(vocab_test_set - vocab_train_set)\n",
    "print(unknown_words)\n",
    "print(\"Unknown words count =\",len(unknown_words))"
   ]
  },
  {
   "cell_type": "markdown",
   "metadata": {
    "id": "ftDD6TaHkYtQ"
   },
   "source": [
    "### Solve the problem of unknown words"
   ]
  },
  {
   "cell_type": "code",
   "execution_count": 23,
   "metadata": {
    "id": "_aDP8lXEu8dS"
   },
   "outputs": [],
   "source": [
    "# Modified Viterbi Heuristic for unknown words\n",
    "def Viterbi_I(words, train_bag = tagged_words_train):\n",
    "    state = []\n",
    "\n",
    "    tags_list = list(set([pair[1] for pair in train_bag]))\n",
    "    \n",
    "    for key, word in enumerate(words):\n",
    "\n",
    "        #initialise list of probability column for a given observation\n",
    "        probability_list = [] \n",
    "\n",
    "        # Empty list to store transition probability\n",
    "        transition_probability_list = []\n",
    "\n",
    "        for tag in tags_list:\n",
    "            if key == 0:\n",
    "                transition_p = tags_df.loc['.', tag]\n",
    "            else:\n",
    "                transition_p = tags_df.loc[state[-1], tag]\n",
    "                \n",
    "            # compute emission and state probabilities\n",
    "            emission_p = emmisionProbability(words[key], tag)[0]/emmisionProbability(words[key], tag)[1]\n",
    "            state_probability = emission_p * transition_p    \n",
    "            probability_list.append(state_probability)\n",
    "            transition_probability_list.append(transition_p)\n",
    "            \n",
    "        max_probability = max(probability_list)\n",
    "\n",
    "        if max_probability == 0:\n",
    "          max_probability = max(transition_probability_list)\n",
    "          state_max = tags_list[transition_probability_list.index(max_probability)]\n",
    "        else:\n",
    "          # getting state for which probability is maximum\n",
    "          state_max = tags_list[probability_list.index(max_probability)] \n",
    "          \n",
    "        state.append(state_max)\n",
    "\n",
    "    return list(zip(words, state))"
   ]
  },
  {
   "cell_type": "code",
   "execution_count": 24,
   "metadata": {
    "id": "SKRSt8_bDhRR"
   },
   "outputs": [],
   "source": [
    "def bigram_tagger(word, train_set = train_set):\n",
    "    \n",
    "    patterns = [\n",
    "    (r'[aA-zZ]+(ed|ing|es)$', 'VERB'), # Any word ending with 'ing' or 'ed' is a verb\n",
    "    (r'.*ly$', 'ADV'),\n",
    "    (r'^([0-9]|[aA-zZ])+\\-[aA-zZ]*$','ADJ'),\n",
    "    (r'.*able$', 'ADJ'), \n",
    "    (r'.*ful$', 'ADJ'),\n",
    "    (r'.*ous$', 'ADJ'),\n",
    "    (r'^[aA-zZ].*[0-9]+','NOUN'),     # Alpha Numeric\n",
    "    (r'.*ness$', 'NOUN'),\n",
    "    (r'.*\\'s$', 'NOUN'),              # possessive nouns - words ending with 's\n",
    "    (r'.*s$', 'NOUN'),                # plural nouns\n",
    "    (r'.*ers$', 'NOUN'),              # eg.- kinderganteners, autobioghapgers\n",
    "    (r'.*ment$', 'NOUN'),\n",
    "    (r'.*town$', 'NOUN'),\n",
    "    (r'^(0|([*|-|$].*))','X'), # Any special character combination\n",
    "    (r'.*ould$', 'X'),\n",
    "    (r'(The|the|A|a|An|an|That|that|This|this|Those|those|These|these)$', 'DET'), # That/this/these/those belong to the category of Demonstrative determiners\n",
    "    (r'[0-9].?[,\\/]?[0-9]*','NUM'), # Numbers \n",
    "    (r'.*', 'NOUN')\n",
    "    ]\n",
    "\n",
    "    regex_based_tagger = nltk.RegexpTagger(patterns)\n",
    "\n",
    "    # trigram backed up by the regex tagger\n",
    "    bigram_regex_tagger = nltk.BigramTagger(train_set, backoff = regex_based_tagger)\n",
    "    return bigram_regex_tagger.tag_sents([[(word)]])"
   ]
  },
  {
   "cell_type": "code",
   "execution_count": 25,
   "metadata": {
    "id": "s4vPfSZh_DfY"
   },
   "outputs": [],
   "source": [
    "def Viterbi_II(words, train_bag = tagged_words_train):\n",
    "    state = []\n",
    "\n",
    "    tags_list = list(set([pair[1] for pair in train_bag]))\n",
    "    \n",
    "    for key, word in enumerate(words):\n",
    "      if word not in vocab_train_set:\n",
    "        unknown_word_tag = bigram_tagger(word)\n",
    "        for sentence in unknown_word_tag:\n",
    "           for tup in sentence:\n",
    "             state.append(tup[1])\n",
    "      else:\n",
    "        probability_list = [] \n",
    "        for tag in tags_list:\n",
    "            if key == 0:\n",
    "                transition_p = tags_df.loc['.', tag]\n",
    "            else:\n",
    "                transition_p = tags_df.loc[state[-1], tag]\n",
    "                \n",
    "            # compute emission and state probabilities\n",
    "            emission_p = emmisionProbability(words[key], tag)[0]/emmisionProbability(words[key], tag)[1]\n",
    "            state_probability = emission_p * transition_p    \n",
    "            probability_list.append(state_probability)\n",
    "            \n",
    "        max_probability = max(probability_list)\n",
    "\n",
    "        # getting state for which probability is maximum\n",
    "        state_max = tags_list[probability_list.index(max_probability)] \n",
    "        state.append(state_max)\n",
    "\n",
    "    return list(zip(words, state))"
   ]
  },
  {
   "cell_type": "markdown",
   "metadata": {
    "id": "W5FHm1CokYtV"
   },
   "source": [
    "#### Evaluating tagging accuracy"
   ]
  },
  {
   "cell_type": "code",
   "execution_count": 26,
   "metadata": {
    "id": "lPpOoyv0yP_Y"
   },
   "outputs": [],
   "source": [
    "# Function to evaluate the accuracy\n",
    "def accuracy_check(tagged_sequence, word_tag_validation):\n",
    "    check = [i for i, j in zip(tagged_sequence, word_tag_validation) if i == j] \n",
    "    accuracy = len(check)/len(tagged_sequence)\n",
    "    return format(round(accuracy*100,2))\n"
   ]
  },
  {
   "cell_type": "code",
   "execution_count": 27,
   "metadata": {
    "colab": {
     "base_uri": "https://localhost:8080/",
     "height": 51
    },
    "id": "mx-azVTVHNBP",
    "outputId": "134c8696-12ff-488c-f924-b2adc3fbfcd6"
   },
   "outputs": [
    {
     "name": "stdout",
     "output_type": "stream",
     "text": [
      "Time taken in seconds:  93.28129386901855\n",
      "Vanilla Viterbi Accuracy 89.76\n"
     ]
    }
   ],
   "source": [
    "start = time.time()\n",
    "viterbi_seq = vanillaViterbi(untagged_words)\n",
    "end = time.time()\n",
    "difference = end-start\n",
    "print(\"Time taken in seconds: \", difference)\n",
    "viterbi_accuracy = accuracy_check(viterbi_seq, word_tag_validation)\n",
    "print('Vanilla Viterbi Accuracy {0}'.format(viterbi_accuracy))"
   ]
  },
  {
   "cell_type": "code",
   "execution_count": 28,
   "metadata": {
    "colab": {
     "base_uri": "https://localhost:8080/",
     "height": 51
    },
    "id": "cHYtnv_izvty",
    "outputId": "6560658f-ebf2-4a3b-fe17-43de91253e3b"
   },
   "outputs": [
    {
     "name": "stdout",
     "output_type": "stream",
     "text": [
      "Time taken in seconds:  92.3424859046936\n",
      "Viterbi Modification 1 Accuracy 91.99\n"
     ]
    }
   ],
   "source": [
    "start = time.time()\n",
    "viterbiI_seq = Viterbi_I(untagged_words)\n",
    "end = time.time()\n",
    "difference = end-start\n",
    "print(\"Time taken in seconds: \", difference)\n",
    "viterbi_I_accuracy = accuracy_check(viterbiI_seq, word_tag_validation)\n",
    "print('Viterbi Modification 1 Accuracy {0}'.format(viterbi_I_accuracy))"
   ]
  },
  {
   "cell_type": "code",
   "execution_count": 29,
   "metadata": {
    "colab": {
     "base_uri": "https://localhost:8080/",
     "height": 51
    },
    "id": "RJlaZYhYFNNL",
    "outputId": "92f68171-6cc6-4022-9408-41dc3c8f641d"
   },
   "outputs": [
    {
     "name": "stdout",
     "output_type": "stream",
     "text": [
      "Time taken in seconds:  166.38787031173706\n",
      "Viterbi Modification 2 Accuracy 95.34\n"
     ]
    }
   ],
   "source": [
    "start = time.time()\n",
    "viterbiII_seq = Viterbi_II(untagged_words)\n",
    "end = time.time()\n",
    "difference = end-start\n",
    "print(\"Time taken in seconds: \", difference)\n",
    "viterbi_II_accuracy = accuracy_check(viterbiII_seq, word_tag_validation)\n",
    "print('Viterbi Modification 2 Accuracy {0}'.format(viterbi_II_accuracy))"
   ]
  },
  {
   "cell_type": "markdown",
   "metadata": {
    "id": "5rwz5TnRkYta"
   },
   "source": [
    "### Compare the tagging accuracies of the modifications with the vanilla Viterbi algorithm"
   ]
  },
  {
   "cell_type": "code",
   "execution_count": 30,
   "metadata": {
    "id": "FX2XCSIQkYta"
   },
   "outputs": [],
   "source": [
    "accuracy_list = [float(viterbi_accuracy),\n",
    "                 float(viterbi_I_accuracy),\n",
    "                 float(viterbi_II_accuracy)]"
   ]
  },
  {
   "cell_type": "code",
   "execution_count": 31,
   "metadata": {
    "colab": {
     "base_uri": "https://localhost:8080/",
     "height": 283
    },
    "id": "bZ4F3UMOPVht",
    "outputId": "a32187c2-b8e1-41fd-d812-82d8fbc9956c"
   },
   "outputs": [
    {
     "data": {
      "image/png": "[encoded data removed]",
      "text/plain": [
       "<Figure size 432x288 with 1 Axes>"
      ]
     },
     "metadata": {
      "needs_background": "light",
      "tags": []
     },
     "output_type": "display_data"
    }
   ],
   "source": [
    "plt.xlabel('Algorithm')\n",
    "plt.ylabel('Accuracy')\n",
    "sns.barplot(x=['Vanilla Viterbi','Viterbi Modified 1', 'Viterbi Modified 2'], y=accuracy_list)\n",
    "plt.show()"
   ]
  },
  {
   "cell_type": "markdown",
   "metadata": {
    "id": "M9rX5lC3kYth"
   },
   "source": [
    "### List down cases which were incorrectly tagged by original POS tagger and got corrected by your modifications"
   ]
  },
  {
   "cell_type": "code",
   "execution_count": 32,
   "metadata": {
    "id": "c0pqZpI4kYth"
   },
   "outputs": [],
   "source": [
    "def listTags(vanilla_tags, modified_tags, word_tag_validation) :\n",
    "  correctly_tagged_list = []\n",
    "  for i,j,k in zip(vanilla_tags, modified_tags, word_tag_validation):\n",
    "        if (i != k) & (j == k):\n",
    "          correctly_tagged_list.append([i,j,k])\n",
    "  return  correctly_tagged_list"
   ]
  },
  {
   "cell_type": "code",
   "execution_count": 33,
   "metadata": {
    "id": "1Se_Pfk4kYtl"
   },
   "outputs": [],
   "source": [
    "corrected_viterbi_I = listTags(viterbi_seq, viterbiI_seq,word_tag_validation  )"
   ]
  },
  {
   "cell_type": "code",
   "execution_count": 34,
   "metadata": {
    "colab": {
     "base_uri": "https://localhost:8080/",
     "height": 421
    },
    "id": "yvYFb5XokYtn",
    "outputId": "66ec6d98-d5f8-404b-c8fc-74dacd0ddfc6"
   },
   "outputs": [
    {
     "data": {
      "text/html": [
       "<div>\n",
       "<style scoped>\n",
       "    .dataframe tbody tr th:only-of-type {\n",
       "        vertical-align: middle;\n",
       "    }\n",
       "\n",
       "    .dataframe tbody tr th {\n",
       "        vertical-align: top;\n",
       "    }\n",
       "\n",
       "    .dataframe thead th {\n",
       "        text-align: right;\n",
       "    }\n",
       "</style>\n",
       "<table border=\"1\" class=\"dataframe\">\n",
       "  <thead>\n",
       "    <tr style=\"text-align: right;\">\n",
       "      <th></th>\n",
       "      <th>Venilla Viterbi</th>\n",
       "      <th>Viterbi Modification I</th>\n",
       "      <th>Actual Tag</th>\n",
       "    </tr>\n",
       "  </thead>\n",
       "  <tbody>\n",
       "    <tr>\n",
       "      <th>0</th>\n",
       "      <td>(Rexinger, PRT)</td>\n",
       "      <td>(Rexinger, NOUN)</td>\n",
       "      <td>(Rexinger, NOUN)</td>\n",
       "    </tr>\n",
       "    <tr>\n",
       "      <th>1</th>\n",
       "      <td>(Glauber, PRT)</td>\n",
       "      <td>(Glauber, NOUN)</td>\n",
       "      <td>(Glauber, NOUN)</td>\n",
       "    </tr>\n",
       "    <tr>\n",
       "      <th>2</th>\n",
       "      <td>(Dolphins, PRT)</td>\n",
       "      <td>(Dolphins, NOUN)</td>\n",
       "      <td>(Dolphins, NOUN)</td>\n",
       "    </tr>\n",
       "    <tr>\n",
       "      <th>3</th>\n",
       "      <td>(heavy-truck, PRT)</td>\n",
       "      <td>(heavy-truck, NOUN)</td>\n",
       "      <td>(heavy-truck, NOUN)</td>\n",
       "    </tr>\n",
       "    <tr>\n",
       "      <th>4</th>\n",
       "      <td>(passenger-car, PRT)</td>\n",
       "      <td>(passenger-car, NOUN)</td>\n",
       "      <td>(passenger-car, NOUN)</td>\n",
       "    </tr>\n",
       "    <tr>\n",
       "      <th>5</th>\n",
       "      <td>(Pick, PRT)</td>\n",
       "      <td>(Pick, VERB)</td>\n",
       "      <td>(Pick, VERB)</td>\n",
       "    </tr>\n",
       "    <tr>\n",
       "      <th>6</th>\n",
       "      <td>(NATIONAL, PRT)</td>\n",
       "      <td>(NATIONAL, NOUN)</td>\n",
       "      <td>(NATIONAL, NOUN)</td>\n",
       "    </tr>\n",
       "    <tr>\n",
       "      <th>7</th>\n",
       "      <td>(ASSOCIATION, PRT)</td>\n",
       "      <td>(ASSOCIATION, NOUN)</td>\n",
       "      <td>(ASSOCIATION, NOUN)</td>\n",
       "    </tr>\n",
       "    <tr>\n",
       "      <th>8</th>\n",
       "      <td>(Inns, PRT)</td>\n",
       "      <td>(Inns, NOUN)</td>\n",
       "      <td>(Inns, NOUN)</td>\n",
       "    </tr>\n",
       "    <tr>\n",
       "      <th>9</th>\n",
       "      <td>(Montgomery, PRT)</td>\n",
       "      <td>(Montgomery, NOUN)</td>\n",
       "      <td>(Montgomery, NOUN)</td>\n",
       "    </tr>\n",
       "    <tr>\n",
       "      <th>10</th>\n",
       "      <td>(Dolphins, PRT)</td>\n",
       "      <td>(Dolphins, NOUN)</td>\n",
       "      <td>(Dolphins, NOUN)</td>\n",
       "    </tr>\n",
       "    <tr>\n",
       "      <th>11</th>\n",
       "      <td>(propagandize, PRT)</td>\n",
       "      <td>(propagandize, VERB)</td>\n",
       "      <td>(propagandize, VERB)</td>\n",
       "    </tr>\n",
       "  </tbody>\n",
       "</table>\n",
       "</div>"
      ],
      "text/plain": [
       "         Venilla Viterbi Viterbi Modification I             Actual Tag\n",
       "0        (Rexinger, PRT)       (Rexinger, NOUN)       (Rexinger, NOUN)\n",
       "1         (Glauber, PRT)        (Glauber, NOUN)        (Glauber, NOUN)\n",
       "2        (Dolphins, PRT)       (Dolphins, NOUN)       (Dolphins, NOUN)\n",
       "3     (heavy-truck, PRT)    (heavy-truck, NOUN)    (heavy-truck, NOUN)\n",
       "4   (passenger-car, PRT)  (passenger-car, NOUN)  (passenger-car, NOUN)\n",
       "5            (Pick, PRT)           (Pick, VERB)           (Pick, VERB)\n",
       "6        (NATIONAL, PRT)       (NATIONAL, NOUN)       (NATIONAL, NOUN)\n",
       "7     (ASSOCIATION, PRT)    (ASSOCIATION, NOUN)    (ASSOCIATION, NOUN)\n",
       "8            (Inns, PRT)           (Inns, NOUN)           (Inns, NOUN)\n",
       "9      (Montgomery, PRT)     (Montgomery, NOUN)     (Montgomery, NOUN)\n",
       "10       (Dolphins, PRT)       (Dolphins, NOUN)       (Dolphins, NOUN)\n",
       "11   (propagandize, PRT)   (propagandize, VERB)   (propagandize, VERB)"
      ]
     },
     "execution_count": 34,
     "metadata": {
      "tags": []
     },
     "output_type": "execute_result"
    }
   ],
   "source": [
    "pd.DataFrame(corrected_viterbi_I, columns= ['Venilla Viterbi', 'Viterbi Modification I', 'Actual Tag'])"
   ]
  },
  {
   "cell_type": "code",
   "execution_count": 35,
   "metadata": {
    "id": "lH2LeQ8RfWnn"
   },
   "outputs": [],
   "source": [
    "corrected_viterbi_II = listTags(viterbi_seq, viterbiII_seq, word_tag_validation  )"
   ]
  },
  {
   "cell_type": "code",
   "execution_count": 36,
   "metadata": {
    "colab": {
     "base_uri": "https://localhost:8080/",
     "height": 979
    },
    "id": "9Gc_mtZrfyKh",
    "outputId": "31c2b705-aedd-4d54-f737-d2b7c573d05f"
   },
   "outputs": [
    {
     "data": {
      "text/html": [
       "<div>\n",
       "<style scoped>\n",
       "    .dataframe tbody tr th:only-of-type {\n",
       "        vertical-align: middle;\n",
       "    }\n",
       "\n",
       "    .dataframe tbody tr th {\n",
       "        vertical-align: top;\n",
       "    }\n",
       "\n",
       "    .dataframe thead th {\n",
       "        text-align: right;\n",
       "    }\n",
       "</style>\n",
       "<table border=\"1\" class=\"dataframe\">\n",
       "  <thead>\n",
       "    <tr style=\"text-align: right;\">\n",
       "      <th></th>\n",
       "      <th>Venilla Viterbi</th>\n",
       "      <th>Viterbi Modification II</th>\n",
       "      <th>Actual Tag</th>\n",
       "    </tr>\n",
       "  </thead>\n",
       "  <tbody>\n",
       "    <tr>\n",
       "      <th>0</th>\n",
       "      <td>(Rexinger, PRT)</td>\n",
       "      <td>(Rexinger, NOUN)</td>\n",
       "      <td>(Rexinger, NOUN)</td>\n",
       "    </tr>\n",
       "    <tr>\n",
       "      <th>1</th>\n",
       "      <td>(Circuit, PRT)</td>\n",
       "      <td>(Circuit, NOUN)</td>\n",
       "      <td>(Circuit, NOUN)</td>\n",
       "    </tr>\n",
       "    <tr>\n",
       "      <th>2</th>\n",
       "      <td>(Glauber, PRT)</td>\n",
       "      <td>(Glauber, NOUN)</td>\n",
       "      <td>(Glauber, NOUN)</td>\n",
       "    </tr>\n",
       "    <tr>\n",
       "      <th>3</th>\n",
       "      <td>(12-member, PRT)</td>\n",
       "      <td>(12-member, ADJ)</td>\n",
       "      <td>(12-member, ADJ)</td>\n",
       "    </tr>\n",
       "    <tr>\n",
       "      <th>4</th>\n",
       "      <td>(Dolphins, PRT)</td>\n",
       "      <td>(Dolphins, NOUN)</td>\n",
       "      <td>(Dolphins, NOUN)</td>\n",
       "    </tr>\n",
       "    <tr>\n",
       "      <th>5</th>\n",
       "      <td>(disagrees, PRT)</td>\n",
       "      <td>(disagrees, VERB)</td>\n",
       "      <td>(disagrees, VERB)</td>\n",
       "    </tr>\n",
       "    <tr>\n",
       "      <th>6</th>\n",
       "      <td>(NIH-appointed, PRT)</td>\n",
       "      <td>(NIH-appointed, ADJ)</td>\n",
       "      <td>(NIH-appointed, ADJ)</td>\n",
       "    </tr>\n",
       "    <tr>\n",
       "      <th>7</th>\n",
       "      <td>(recommended, PRT)</td>\n",
       "      <td>(recommended, VERB)</td>\n",
       "      <td>(recommended, VERB)</td>\n",
       "    </tr>\n",
       "    <tr>\n",
       "      <th>8</th>\n",
       "      <td>(carefully, PRT)</td>\n",
       "      <td>(carefully, ADV)</td>\n",
       "      <td>(carefully, ADV)</td>\n",
       "    </tr>\n",
       "    <tr>\n",
       "      <th>9</th>\n",
       "      <td>(embroiled, PRT)</td>\n",
       "      <td>(embroiled, VERB)</td>\n",
       "      <td>(embroiled, VERB)</td>\n",
       "    </tr>\n",
       "    <tr>\n",
       "      <th>10</th>\n",
       "      <td>(anti-abortion, PRT)</td>\n",
       "      <td>(anti-abortion, ADJ)</td>\n",
       "      <td>(anti-abortion, ADJ)</td>\n",
       "    </tr>\n",
       "    <tr>\n",
       "      <th>11</th>\n",
       "      <td>(88.32, PRT)</td>\n",
       "      <td>(88.32, NUM)</td>\n",
       "      <td>(88.32, NUM)</td>\n",
       "    </tr>\n",
       "    <tr>\n",
       "      <th>12</th>\n",
       "      <td>(618.1, PRT)</td>\n",
       "      <td>(618.1, NUM)</td>\n",
       "      <td>(618.1, NUM)</td>\n",
       "    </tr>\n",
       "    <tr>\n",
       "      <th>13</th>\n",
       "      <td>(77.6, PRT)</td>\n",
       "      <td>(77.6, NUM)</td>\n",
       "      <td>(77.6, NUM)</td>\n",
       "    </tr>\n",
       "    <tr>\n",
       "      <th>14</th>\n",
       "      <td>(NATIONAL, PRT)</td>\n",
       "      <td>(NATIONAL, NOUN)</td>\n",
       "      <td>(NATIONAL, NOUN)</td>\n",
       "    </tr>\n",
       "    <tr>\n",
       "      <th>15</th>\n",
       "      <td>(ASSOCIATION, PRT)</td>\n",
       "      <td>(ASSOCIATION, NOUN)</td>\n",
       "      <td>(ASSOCIATION, NOUN)</td>\n",
       "    </tr>\n",
       "    <tr>\n",
       "      <th>16</th>\n",
       "      <td>(9.75, PRT)</td>\n",
       "      <td>(9.75, NUM)</td>\n",
       "      <td>(9.75, NUM)</td>\n",
       "    </tr>\n",
       "    <tr>\n",
       "      <th>17</th>\n",
       "      <td>(8.70, PRT)</td>\n",
       "      <td>(8.70, NUM)</td>\n",
       "      <td>(8.70, NUM)</td>\n",
       "    </tr>\n",
       "    <tr>\n",
       "      <th>18</th>\n",
       "      <td>(6\\/2, PRT)</td>\n",
       "      <td>(6\\/2, NUM)</td>\n",
       "      <td>(6\\/2, NUM)</td>\n",
       "    </tr>\n",
       "    <tr>\n",
       "      <th>19</th>\n",
       "      <td>(*T*-203, PRT)</td>\n",
       "      <td>(*T*-203, X)</td>\n",
       "      <td>(*T*-203, X)</td>\n",
       "    </tr>\n",
       "    <tr>\n",
       "      <th>20</th>\n",
       "      <td>(Inns, PRT)</td>\n",
       "      <td>(Inns, NOUN)</td>\n",
       "      <td>(Inns, NOUN)</td>\n",
       "    </tr>\n",
       "    <tr>\n",
       "      <th>21</th>\n",
       "      <td>(Montgomery, PRT)</td>\n",
       "      <td>(Montgomery, NOUN)</td>\n",
       "      <td>(Montgomery, NOUN)</td>\n",
       "    </tr>\n",
       "    <tr>\n",
       "      <th>22</th>\n",
       "      <td>(spooked, PRT)</td>\n",
       "      <td>(spooked, VERB)</td>\n",
       "      <td>(spooked, VERB)</td>\n",
       "    </tr>\n",
       "    <tr>\n",
       "      <th>23</th>\n",
       "      <td>(Dolphins, PRT)</td>\n",
       "      <td>(Dolphins, NOUN)</td>\n",
       "      <td>(Dolphins, NOUN)</td>\n",
       "    </tr>\n",
       "    <tr>\n",
       "      <th>24</th>\n",
       "      <td>(disagrees, PRT)</td>\n",
       "      <td>(disagrees, VERB)</td>\n",
       "      <td>(disagrees, VERB)</td>\n",
       "    </tr>\n",
       "    <tr>\n",
       "      <th>25</th>\n",
       "      <td>(420, PRT)</td>\n",
       "      <td>(420, NUM)</td>\n",
       "      <td>(420, NUM)</td>\n",
       "    </tr>\n",
       "    <tr>\n",
       "      <th>26</th>\n",
       "      <td>(93.9, PRT)</td>\n",
       "      <td>(93.9, NUM)</td>\n",
       "      <td>(93.9, NUM)</td>\n",
       "    </tr>\n",
       "    <tr>\n",
       "      <th>27</th>\n",
       "      <td>(1.19, PRT)</td>\n",
       "      <td>(1.19, NUM)</td>\n",
       "      <td>(1.19, NUM)</td>\n",
       "    </tr>\n",
       "    <tr>\n",
       "      <th>28</th>\n",
       "      <td>(92.9, PRT)</td>\n",
       "      <td>(92.9, NUM)</td>\n",
       "      <td>(92.9, NUM)</td>\n",
       "    </tr>\n",
       "    <tr>\n",
       "      <th>29</th>\n",
       "      <td>(1.18, PRT)</td>\n",
       "      <td>(1.18, NUM)</td>\n",
       "      <td>(1.18, NUM)</td>\n",
       "    </tr>\n",
       "  </tbody>\n",
       "</table>\n",
       "</div>"
      ],
      "text/plain": [
       "         Venilla Viterbi Viterbi Modification II            Actual Tag\n",
       "0        (Rexinger, PRT)        (Rexinger, NOUN)      (Rexinger, NOUN)\n",
       "1         (Circuit, PRT)         (Circuit, NOUN)       (Circuit, NOUN)\n",
       "2         (Glauber, PRT)         (Glauber, NOUN)       (Glauber, NOUN)\n",
       "3       (12-member, PRT)        (12-member, ADJ)      (12-member, ADJ)\n",
       "4        (Dolphins, PRT)        (Dolphins, NOUN)      (Dolphins, NOUN)\n",
       "5       (disagrees, PRT)       (disagrees, VERB)     (disagrees, VERB)\n",
       "6   (NIH-appointed, PRT)    (NIH-appointed, ADJ)  (NIH-appointed, ADJ)\n",
       "7     (recommended, PRT)     (recommended, VERB)   (recommended, VERB)\n",
       "8       (carefully, PRT)        (carefully, ADV)      (carefully, ADV)\n",
       "9       (embroiled, PRT)       (embroiled, VERB)     (embroiled, VERB)\n",
       "10  (anti-abortion, PRT)    (anti-abortion, ADJ)  (anti-abortion, ADJ)\n",
       "11          (88.32, PRT)            (88.32, NUM)          (88.32, NUM)\n",
       "12          (618.1, PRT)            (618.1, NUM)          (618.1, NUM)\n",
       "13           (77.6, PRT)             (77.6, NUM)           (77.6, NUM)\n",
       "14       (NATIONAL, PRT)        (NATIONAL, NOUN)      (NATIONAL, NOUN)\n",
       "15    (ASSOCIATION, PRT)     (ASSOCIATION, NOUN)   (ASSOCIATION, NOUN)\n",
       "16           (9.75, PRT)             (9.75, NUM)           (9.75, NUM)\n",
       "17           (8.70, PRT)             (8.70, NUM)           (8.70, NUM)\n",
       "18           (6\\/2, PRT)             (6\\/2, NUM)           (6\\/2, NUM)\n",
       "19        (*T*-203, PRT)            (*T*-203, X)          (*T*-203, X)\n",
       "20           (Inns, PRT)            (Inns, NOUN)          (Inns, NOUN)\n",
       "21     (Montgomery, PRT)      (Montgomery, NOUN)    (Montgomery, NOUN)\n",
       "22        (spooked, PRT)         (spooked, VERB)       (spooked, VERB)\n",
       "23       (Dolphins, PRT)        (Dolphins, NOUN)      (Dolphins, NOUN)\n",
       "24      (disagrees, PRT)       (disagrees, VERB)     (disagrees, VERB)\n",
       "25            (420, PRT)              (420, NUM)            (420, NUM)\n",
       "26           (93.9, PRT)             (93.9, NUM)           (93.9, NUM)\n",
       "27           (1.19, PRT)             (1.19, NUM)           (1.19, NUM)\n",
       "28           (92.9, PRT)             (92.9, NUM)           (92.9, NUM)\n",
       "29           (1.18, PRT)             (1.18, NUM)           (1.18, NUM)"
      ]
     },
     "execution_count": 36,
     "metadata": {
      "tags": []
     },
     "output_type": "execute_result"
    }
   ],
   "source": [
    "pd.DataFrame(corrected_viterbi_II, columns= ['Venilla Viterbi', 'Viterbi Modification II', 'Actual Tag'])"
   ]
  }
 ],
 "metadata": {
  "colab": {
   "collapsed_sections": [],
   "name": "HMM+-based+POS+tagging-+Assignment.ipynb",
   "provenance": [],
   "toc_visible": true
  },
  "kernelspec": {
   "display_name": "Python 3",
   "language": "python",
   "name": "python3"
  },
  "language_info": {
   "codemirror_mode": {
    "name": "ipython",
    "version": 3
   },
   "file_extension": ".py",
   "mimetype": "text/x-python",
   "name": "python",
   "nbconvert_exporter": "python",
   "pygments_lexer": "ipython3",
   "version": "3.6.10"
  }
 },
 "nbformat": 4,
 "nbformat_minor": 1
}
