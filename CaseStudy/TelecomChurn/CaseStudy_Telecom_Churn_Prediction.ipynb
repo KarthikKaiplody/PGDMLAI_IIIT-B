{
 "cells": [
  {
   "cell_type": "markdown",
   "metadata": {
    "colab_type": "text",
    "id": "UQWlGqS0o1ta"
   },
   "source": [
    "## Importing Libraries and Data"
   ]
  },
  {
   "cell_type": "code",
   "execution_count": 1,
   "metadata": {
    "colab": {
     "base_uri": "https://localhost:8080/",
     "height": 139
    },
    "colab_type": "code",
    "id": "3cRyIWaC_Dhi",
    "outputId": "4e282941-fafb-47e8-e5a0-27ca0c23a46e"
   },
   "outputs": [
    {
     "ename": "ModuleNotFoundError",
     "evalue": "No module named 'imblearn'",
     "output_type": "error",
     "traceback": [
      "\u001b[0;31m---------------------------------------------------------------------------\u001b[0m",
      "\u001b[0;31mModuleNotFoundError\u001b[0m                       Traceback (most recent call last)",
      "\u001b[0;32m<ipython-input-1-5f67e081da9a>\u001b[0m in \u001b[0;36m<module>\u001b[0;34m\u001b[0m\n\u001b[1;32m      8\u001b[0m \u001b[0;32mfrom\u001b[0m \u001b[0msklearn\u001b[0m\u001b[0;34m.\u001b[0m\u001b[0mmetrics\u001b[0m \u001b[0;32mimport\u001b[0m \u001b[0mconfusion_matrix\u001b[0m\u001b[0;34m\u001b[0m\u001b[0;34m\u001b[0m\u001b[0m\n\u001b[1;32m      9\u001b[0m \u001b[0;32mfrom\u001b[0m \u001b[0msklearn\u001b[0m\u001b[0;34m.\u001b[0m\u001b[0mdecomposition\u001b[0m \u001b[0;32mimport\u001b[0m \u001b[0mPCA\u001b[0m\u001b[0;34m\u001b[0m\u001b[0;34m\u001b[0m\u001b[0m\n\u001b[0;32m---> 10\u001b[0;31m \u001b[0;32mfrom\u001b[0m \u001b[0mimblearn\u001b[0m\u001b[0;34m.\u001b[0m\u001b[0mover_sampling\u001b[0m \u001b[0;32mimport\u001b[0m \u001b[0mSMOTE\u001b[0m\u001b[0;34m\u001b[0m\u001b[0;34m\u001b[0m\u001b[0m\n\u001b[0m\u001b[1;32m     11\u001b[0m \u001b[0;32mimport\u001b[0m \u001b[0mxgboost\u001b[0m \u001b[0;32mas\u001b[0m \u001b[0mxgb\u001b[0m\u001b[0;34m\u001b[0m\u001b[0;34m\u001b[0m\u001b[0m\n\u001b[1;32m     12\u001b[0m \u001b[0;34m\u001b[0m\u001b[0m\n",
      "\u001b[0;31mModuleNotFoundError\u001b[0m: No module named 'imblearn'"
     ]
    }
   ],
   "source": [
    "# Importing the required libraries\n",
    "import pandas as pd\n",
    "import numpy as np\n",
    "import matplotlib.pyplot as plt\n",
    "import seaborn as sns\n",
    "from sklearn.linear_model import LogisticRegression\n",
    "from sklearn import metrics\n",
    "from sklearn.metrics import confusion_matrix\n",
    "from sklearn.decomposition import PCA\n",
    "from imblearn.over_sampling import SMOTE\n",
    "import xgboost as xgb\n",
    "\n",
    "from sklearn.model_selection import GridSearchCV\n",
    "from sklearn.ensemble import RandomForestClassifier\n",
    "\n",
    "import warnings\n",
    "warnings.filterwarnings('ignore')"
   ]
  },
  {
   "cell_type": "code",
   "execution_count": null,
   "metadata": {
    "colab": {},
    "colab_type": "code",
    "id": "NcFutNt08nFV"
   },
   "outputs": [],
   "source": [
    "# Reading the dataset\n",
    "churn_data = pd.read_csv(\"telecom_churn_data.csv\")"
   ]
  },
  {
   "cell_type": "code",
   "execution_count": null,
   "metadata": {
    "colab": {},
    "colab_type": "code",
    "id": "t3gdGJL5_NKe"
   },
   "outputs": [],
   "source": [
    "# Settings for viewing the entire columns\n",
    "pd.set_option('display.max_columns', None)\n",
    "pd.set_option('display.max_rows', None)"
   ]
  },
  {
   "cell_type": "code",
   "execution_count": null,
   "metadata": {
    "colab": {
     "base_uri": "https://localhost:8080/",
     "height": 34
    },
    "colab_type": "code",
    "id": "fE8iEgyMEGYL",
    "outputId": "bab38952-262b-4881-889a-70142b68c03a"
   },
   "outputs": [],
   "source": [
    "churn_data.shape"
   ]
  },
  {
   "cell_type": "code",
   "execution_count": null,
   "metadata": {
    "colab": {
     "base_uri": "https://localhost:8080/",
     "height": 379
    },
    "colab_type": "code",
    "id": "ik8ClE-u_VLL",
    "outputId": "4d45fcf5-0e00-4d7b-d301-afe7d0f85519"
   },
   "outputs": [],
   "source": [
    "# Checking the data\n",
    "churn_data.head(10)"
   ]
  },
  {
   "cell_type": "markdown",
   "metadata": {
    "colab_type": "text",
    "id": "aojfNxSc_oSr"
   },
   "source": [
    "## Data Cleaning"
   ]
  },
  {
   "cell_type": "markdown",
   "metadata": {
    "colab_type": "text",
    "id": "Gv7J-qtmUf8z"
   },
   "source": [
    "#### `Missing value percentage`"
   ]
  },
  {
   "cell_type": "code",
   "execution_count": null,
   "metadata": {
    "colab": {},
    "colab_type": "code",
    "id": "NKIvxKLuD3a1"
   },
   "outputs": [],
   "source": [
    "def nullPercentage(churn_data):\n",
    "  return round((churn_data.isnull().sum()/len(churn_data)*100),2).sort_values(ascending=False)"
   ]
  },
  {
   "cell_type": "code",
   "execution_count": null,
   "metadata": {
    "colab": {
     "base_uri": "https://localhost:8080/",
     "height": 0
    },
    "colab_type": "code",
    "id": "EAqpriEg_d25",
    "outputId": "22c19e23-3b31-47d8-e37d-29d2c6a69edf"
   },
   "outputs": [],
   "source": [
    "percentage_ = nullPercentage(churn_data)\n",
    "percentage_"
   ]
  },
  {
   "cell_type": "markdown",
   "metadata": {
    "colab_type": "text",
    "id": "PB07YA5EVK3x"
   },
   "source": [
    "#### `Splitting the categorical and continuous columns`"
   ]
  },
  {
   "cell_type": "code",
   "execution_count": null,
   "metadata": {
    "colab": {
     "base_uri": "https://localhost:8080/",
     "height": 0
    },
    "colab_type": "code",
    "id": "N05bi0NuBkr0",
    "outputId": "19dd34f3-8f62-4c17-d9b0-2495ba9d2e4d"
   },
   "outputs": [],
   "source": [
    "# Checking the null data again\n",
    "print(nullPercentage(churn_data))"
   ]
  },
  {
   "cell_type": "code",
   "execution_count": null,
   "metadata": {
    "colab": {
     "base_uri": "https://localhost:8080/",
     "height": 0
    },
    "colab_type": "code",
    "id": "QWIIiCb6Bvv7",
    "outputId": "c9045bd1-065c-4e4b-9325-1f4d3d4d7496"
   },
   "outputs": [],
   "source": [
    "# Categorical variables\n",
    "categorical_columns = churn_data.select_dtypes(exclude=['int','float']).columns\n",
    "categorical_columns.values"
   ]
  },
  {
   "cell_type": "code",
   "execution_count": null,
   "metadata": {
    "colab": {
     "base_uri": "https://localhost:8080/",
     "height": 0
    },
    "colab_type": "code",
    "id": "f0OjGHM9B06Z",
    "outputId": "7ce02702-7e3d-40cd-ad6c-9164502ed346"
   },
   "outputs": [],
   "source": [
    "# Continuous variables\n",
    "continuous_columns = churn_data.select_dtypes(include=['int','float']).columns\n",
    "continuous_columns.values"
   ]
  },
  {
   "cell_type": "code",
   "execution_count": null,
   "metadata": {
    "colab": {
     "base_uri": "https://localhost:8080/",
     "height": 0
    },
    "colab_type": "code",
    "id": "XsJxDRbRvJw9",
    "outputId": "242f5246-cc87-4825-d028-adb7043263fc"
   },
   "outputs": [],
   "source": [
    "# Checking if there are any non_standard missing values\n",
    "columns_ = churn_data.columns\n",
    "for col in columns_:\n",
    "  print ('{} : Unique values {}\\n'.format(col, churn_data[col].unique()))"
   ]
  },
  {
   "cell_type": "code",
   "execution_count": null,
   "metadata": {
    "colab": {},
    "colab_type": "code",
    "id": "0Uq2Ycs6CTTO"
   },
   "outputs": [],
   "source": [
    "# Converting the categorical columns into datetime type\n",
    "for col in categorical_columns.values:\n",
    "  churn_data[col] = pd.to_datetime(churn_data[col])"
   ]
  },
  {
   "cell_type": "code",
   "execution_count": null,
   "metadata": {
    "colab": {},
    "colab_type": "code",
    "id": "lh9zI1pGPaB_"
   },
   "outputs": [],
   "source": [
    "# Converting the categorical features to object type.\n",
    "churn_data[['mobile_number','circle_id']] = churn_data[['mobile_number','circle_id']].astype(object)"
   ]
  },
  {
   "cell_type": "markdown",
   "metadata": {
    "colab_type": "text",
    "id": "Qq08InrQ2drT"
   },
   "source": [
    "#### `Imputing the meaningfull missing data by 0`"
   ]
  },
  {
   "cell_type": "code",
   "execution_count": null,
   "metadata": {
    "colab": {
     "base_uri": "https://localhost:8080/",
     "height": 0
    },
    "colab_type": "code",
    "id": "tSw2g9Xm47vs",
    "outputId": "efd5cf6b-555f-40d2-d424-94e8dd2617df"
   },
   "outputs": [],
   "source": [
    "# Checking the null values in total recharge amount.\n",
    "churn_data[['total_rech_amt_6','total_rech_amt_7','total_rech_amt_8','total_rech_amt_9']].isnull().sum()"
   ]
  },
  {
   "cell_type": "code",
   "execution_count": null,
   "metadata": {
    "colab": {
     "base_uri": "https://localhost:8080/",
     "height": 0
    },
    "colab_type": "code",
    "id": "6rA8nVrJ4-BY",
    "outputId": "4e172460-b96e-447b-a1ff-e076b6b7eca9"
   },
   "outputs": [],
   "source": [
    "# Checking the null values in average reacharge data and total recharge data.\n",
    "churn_data[['av_rech_amt_data_6','av_rech_amt_data_7','av_rech_amt_data_8','av_rech_amt_data_9','total_rech_data_6','total_rech_data_7','total_rech_data_8','total_rech_data_9']].isnull().sum()"
   ]
  },
  {
   "cell_type": "code",
   "execution_count": null,
   "metadata": {
    "colab": {},
    "colab_type": "code",
    "id": "XzIStsjk5cDH"
   },
   "outputs": [],
   "source": [
    "# Imputing the recharge data columns with 0.\n",
    "churn_data[['av_rech_amt_data_6','av_rech_amt_data_7','av_rech_amt_data_8','av_rech_amt_data_9']] = churn_data[['av_rech_amt_data_6','av_rech_amt_data_7','av_rech_amt_data_8','av_rech_amt_data_9']].fillna(0)\n",
    "churn_data[['total_rech_data_6','total_rech_data_7','total_rech_data_8','total_rech_data_9']] = churn_data[['total_rech_data_6','total_rech_data_7','total_rech_data_8','total_rech_data_9']].fillna(0)"
   ]
  },
  {
   "cell_type": "markdown",
   "metadata": {
    "colab_type": "text",
    "id": "NXintnzmUyhc"
   },
   "source": [
    "#### `Dropping the columns which has high percentage of missing values`"
   ]
  },
  {
   "cell_type": "code",
   "execution_count": null,
   "metadata": {
    "colab": {
     "base_uri": "https://localhost:8080/",
     "height": 0
    },
    "colab_type": "code",
    "id": "UUCJv7RF_wYO",
    "outputId": "72a80df9-288d-4edf-ab00-8c748f424ab8"
   },
   "outputs": [],
   "source": [
    "# Function to create null_percentage, columns dataframe\n",
    "def createNullDict(data):\n",
    "  columns_ = data.columns\n",
    "  null_percentage_ = round((data.isnull().sum()/len(data)*100),2)\n",
    "  dataframe = pd.DataFrame({'Columns':columns_,'Percentage':null_percentage_})\n",
    "  dataframe.reset_index(drop=True,inplace=True)\n",
    "  return dataframe  \n",
    "\n",
    "# Dropping the columns which has more than 30% of missing values except 9th month data\n",
    "# creating a dictionary of columns and their respective missing percentage\n",
    "null_dataframe = createNullDict(churn_data)\n",
    "columns_to_drop = null_dataframe.loc[(null_dataframe['Columns'].str.contains('_9')==False) & (null_dataframe['Percentage']>20)]['Columns']\n",
    "\n",
    "# Printing the value which are dropped\n",
    "print (columns_to_drop)\n",
    "\n",
    "# Dropping the columns \n",
    "churn_data.drop(columns_to_drop, axis=1, inplace=True)\n"
   ]
  },
  {
   "cell_type": "code",
   "execution_count": null,
   "metadata": {
    "colab": {
     "base_uri": "https://localhost:8080/",
     "height": 0
    },
    "colab_type": "code",
    "id": "f5zfEmyhBV-f",
    "outputId": "59c8538c-c033-4d38-f6a3-56e74376d78c"
   },
   "outputs": [],
   "source": [
    "# Checking the dataframe after dropping\n",
    "print('Shape is',churn_data.shape)\n",
    "churn_data.head(10)"
   ]
  },
  {
   "cell_type": "markdown",
   "metadata": {
    "colab_type": "text",
    "id": "rgoT9TxKVZ63"
   },
   "source": [
    "#### `Checking the Discrete values`"
   ]
  },
  {
   "cell_type": "code",
   "execution_count": null,
   "metadata": {
    "colab": {
     "base_uri": "https://localhost:8080/",
     "height": 0
    },
    "colab_type": "code",
    "id": "zr4XScM5OG_r",
    "outputId": "e1cd8d84-6efc-49f1-b95d-bfe21011b39c"
   },
   "outputs": [],
   "source": [
    "churn_data.describe(percentiles=[0.25,0.5,0.75,0.90,0.95,0.99])"
   ]
  },
  {
   "cell_type": "code",
   "execution_count": null,
   "metadata": {
    "colab": {
     "base_uri": "https://localhost:8080/",
     "height": 0
    },
    "colab_type": "code",
    "id": "2rJVnd2XPD7L",
    "outputId": "d4eb10f2-f292-4fa6-e1c6-428bfdd91128"
   },
   "outputs": [],
   "source": [
    "print(nullPercentage(churn_data))"
   ]
  },
  {
   "cell_type": "code",
   "execution_count": null,
   "metadata": {
    "colab": {
     "base_uri": "https://localhost:8080/",
     "height": 0
    },
    "colab_type": "code",
    "id": "XN1_OhyNOwPf",
    "outputId": "2eacbc52-3f84-43dc-bb93-901a0d3a190b"
   },
   "outputs": [],
   "source": [
    "# Dividing the discrete and continuous varibales\n",
    "dataFrame =  createNullDict(churn_data)\n",
    "\n",
    "discrete_variables = dataFrame.loc[(dataFrame['Columns'].str.contains('sachet')) | (dataFrame['Columns'].str.contains('aon')) | (dataFrame['Columns'].str.contains('monthly')) ]['Columns']\n",
    "discrete_variables.values\n",
    "for feature in discrete_variables.values:\n",
    "  index = dataFrame[dataFrame['Columns'] == feature].index.values[0]\n",
    "  print ('{} Missing value {}'.format(feature, dataFrame._get_value(index,'Percentage')))\n",
    "\n",
    "\n"
   ]
  },
  {
   "cell_type": "markdown",
   "metadata": {
    "colab_type": "text",
    "id": "QsUd9ScSsfS9"
   },
   "source": [
    "`As there are no missing discrete variables we will be imputing the continuous variables using k-NN`"
   ]
  },
  {
   "cell_type": "markdown",
   "metadata": {
    "colab_type": "text",
    "id": "hZlN-S-GWZvo"
   },
   "source": [
    "#### `Imputing the missing values`"
   ]
  },
  {
   "cell_type": "code",
   "execution_count": null,
   "metadata": {
    "colab": {
     "base_uri": "https://localhost:8080/",
     "height": 0
    },
    "colab_type": "code",
    "id": "mJZi_KkWUoH1",
    "outputId": "f06bbae8-f1b7-4c3c-c5bf-7b8d54647c2e"
   },
   "outputs": [],
   "source": [
    "print(nullPercentage(churn_data))"
   ]
  },
  {
   "cell_type": "code",
   "execution_count": null,
   "metadata": {
    "colab": {},
    "colab_type": "code",
    "id": "h-iO4w4oKrXs"
   },
   "outputs": [],
   "source": [
    "# Creating the list of columns which has to be imputed\n",
    "columns_to_impute = []\n",
    "for col in churn_data.columns:\n",
    "  if 'ic' in col or 'og' in col or '_mou' in col:\n",
    "    columns_to_impute.append(col)"
   ]
  },
  {
   "cell_type": "code",
   "execution_count": null,
   "metadata": {
    "colab": {},
    "colab_type": "code",
    "id": "az3ACgiD1oRE"
   },
   "outputs": [],
   "source": [
    "# Imputing the columns with mean\n",
    "for col in columns_to_impute:\n",
    "  churn_data[col].fillna(churn_data[col].mean(),inplace=True)"
   ]
  },
  {
   "cell_type": "code",
   "execution_count": null,
   "metadata": {
    "colab": {
     "base_uri": "https://localhost:8080/",
     "height": 0
    },
    "colab_type": "code",
    "id": "Dh4o8gg43RJS",
    "outputId": "7e474621-c3c6-400d-cb54-1feb2947fde2"
   },
   "outputs": [],
   "source": [
    "# Checking the null percentage\n",
    "nullPercentage(churn_data)"
   ]
  },
  {
   "cell_type": "markdown",
   "metadata": {
    "colab_type": "text",
    "id": "vNy35RZSH4PZ"
   },
   "source": [
    "## Filtering the High Value Customers\n",
    "High value customers are those who have recharged greater than or equal to 70th percentile of the total recharge done by the customer"
   ]
  },
  {
   "cell_type": "code",
   "execution_count": null,
   "metadata": {
    "colab": {
     "base_uri": "https://localhost:8080/",
     "height": 0
    },
    "colab_type": "code",
    "id": "Lc1HrUdKH7Dn",
    "outputId": "a25e583f-0e13-4dc3-da5e-d40370c4b710"
   },
   "outputs": [],
   "source": [
    "[ col for col in churn_data.columns if 'date' in col]"
   ]
  },
  {
   "cell_type": "code",
   "execution_count": null,
   "metadata": {
    "colab": {
     "base_uri": "https://localhost:8080/",
     "height": 0
    },
    "colab_type": "code",
    "id": "jjlaE0vI1_wz",
    "outputId": "073f3e79-534e-4d19-cb77-00576b40e85e"
   },
   "outputs": [],
   "source": [
    "[col for col in churn_data.columns if 'rech' in col]"
   ]
  },
  {
   "cell_type": "code",
   "execution_count": null,
   "metadata": {
    "colab": {},
    "colab_type": "code",
    "id": "Ji5ycdrAIu2f"
   },
   "outputs": [],
   "source": [
    "# Deriving the total_recharge_amount column for 6th and 7th months which is known as good phase.\n",
    "churn_data['total_recharge_amt_6'] = churn_data['av_rech_amt_data_6'] + churn_data['total_rech_num_6']\n",
    "churn_data['total_recharge_amt_7'] = churn_data['av_rech_amt_data_7'] + churn_data['total_rech_num_7']\n",
    "churn_data['total_recharge_amt_8'] = churn_data['av_rech_amt_data_8'] + churn_data['total_rech_num_8']\n",
    "churn_data['total_recharge_amt_9'] = churn_data['av_rech_amt_data_9'] + churn_data['total_rech_num_9']"
   ]
  },
  {
   "cell_type": "code",
   "execution_count": null,
   "metadata": {
    "colab": {},
    "colab_type": "code",
    "id": "MYxlzh3vpumN"
   },
   "outputs": [],
   "source": [
    "# Dropping the columns which are used to derive a new column\n",
    "churn_data.drop(['av_rech_amt_data_6','av_rech_amt_data_7','total_rech_amt_6','total_rech_amt_7'],axis=1,inplace=True)"
   ]
  },
  {
   "cell_type": "code",
   "execution_count": null,
   "metadata": {
    "colab": {},
    "colab_type": "code",
    "id": "6m5M5npTFn7Q"
   },
   "outputs": [],
   "source": [
    "# Deriving the average of 6th and 7th month recharge column\n",
    "churn_data['average_amt_6n7_month'] = (churn_data['total_recharge_amt_6']+churn_data['total_recharge_amt_7'])/2\n"
   ]
  },
  {
   "cell_type": "code",
   "execution_count": null,
   "metadata": {
    "colab": {
     "base_uri": "https://localhost:8080/",
     "height": 0
    },
    "colab_type": "code",
    "id": "HVccRIsgHEaQ",
    "outputId": "85ad0755-3488-4337-bf93-5c5f159ab69e"
   },
   "outputs": [],
   "source": [
    "# Checking the derived column\n",
    "churn_data['average_amt_6n7_month'].head()"
   ]
  },
  {
   "cell_type": "code",
   "execution_count": null,
   "metadata": {
    "colab": {
     "base_uri": "https://localhost:8080/",
     "height": 0
    },
    "colab_type": "code",
    "id": "bRz6itRGHW-p",
    "outputId": "58c26669-a898-46cb-9947-6d0fe4e7253c"
   },
   "outputs": [],
   "source": [
    "# Calculating the 70th percentile\n",
    "percentile = churn_data['average_amt_6n7_month'].quantile(0.7)\n",
    "print(f'70th percentile is {percentile}')"
   ]
  },
  {
   "cell_type": "code",
   "execution_count": null,
   "metadata": {
    "colab": {},
    "colab_type": "code",
    "id": "rhrd33wjHxtk"
   },
   "outputs": [],
   "source": [
    "# Retaining the data of high value custormers, that who are greater than 70th percentile\n",
    "churn_data_new = churn_data[churn_data['average_amt_6n7_month']>=percentile]"
   ]
  },
  {
   "cell_type": "code",
   "execution_count": null,
   "metadata": {
    "colab": {
     "base_uri": "https://localhost:8080/",
     "height": 0
    },
    "colab_type": "code",
    "id": "aapcsjsmJKDX",
    "outputId": "0c549a11-f50e-473a-f495-3e5231fa8cd7"
   },
   "outputs": [],
   "source": [
    "churn_data_new.head(10)"
   ]
  },
  {
   "cell_type": "code",
   "execution_count": null,
   "metadata": {
    "colab": {
     "base_uri": "https://localhost:8080/",
     "height": 0
    },
    "colab_type": "code",
    "id": "oaK8YGnlKOCj",
    "outputId": "bf7d9e2f-773e-45b7-f44b-a841440724cb"
   },
   "outputs": [],
   "source": [
    "nullPercentage(churn_data_new)"
   ]
  },
  {
   "cell_type": "markdown",
   "metadata": {
    "colab_type": "text",
    "id": "Qow0T7zQ7tvo"
   },
   "source": [
    "## Deriving the churn column"
   ]
  },
  {
   "cell_type": "code",
   "execution_count": null,
   "metadata": {
    "colab": {
     "base_uri": "https://localhost:8080/",
     "height": 102
    },
    "colab_type": "code",
    "id": "x9gvR38R7zMT",
    "outputId": "1e63f8ed-74a9-4c8f-bab2-69855935dad0"
   },
   "outputs": [],
   "source": [
    "# Checking whether there are any null columns while derive the churn columns.\n",
    "churn_data_new[['total_ic_mou_9','total_og_mou_9','vol_2g_mb_9','vol_3g_mb_9']].isnull().sum()"
   ]
  },
  {
   "cell_type": "code",
   "execution_count": null,
   "metadata": {
    "colab": {},
    "colab_type": "code",
    "id": "GQlhZR0M8IUH"
   },
   "outputs": [],
   "source": [
    "churn_data_new['churned_column'] = np.where(churn_data_new[['total_ic_mou_9','total_og_mou_9','vol_2g_mb_9','vol_3g_mb_9']].sum(axis=1) == 0,1,0)"
   ]
  },
  {
   "cell_type": "code",
   "execution_count": null,
   "metadata": {
    "colab": {
     "base_uri": "https://localhost:8080/",
     "height": 359
    },
    "colab_type": "code",
    "id": "0Bu5Ir9k8TeV",
    "outputId": "0ce1b478-4f98-4e9e-9878-d42bfdcb7254"
   },
   "outputs": [],
   "source": [
    "churn_data_new[['total_ic_mou_9','total_og_mou_9','vol_2g_mb_9','vol_3g_mb_9','churned_column']].head(10)"
   ]
  },
  {
   "cell_type": "code",
   "execution_count": null,
   "metadata": {
    "colab": {},
    "colab_type": "code",
    "id": "j6rj6FM8_fdF"
   },
   "outputs": [],
   "source": []
  },
  {
   "cell_type": "markdown",
   "metadata": {
    "colab_type": "text",
    "id": "x4iNtwp8A_17"
   },
   "source": [
    "#### `Dropping the 9th month data`"
   ]
  },
  {
   "cell_type": "code",
   "execution_count": null,
   "metadata": {
    "colab": {},
    "colab_type": "code",
    "id": "nPB09vIwBD3g"
   },
   "outputs": [],
   "source": [
    "# As it is the churn phase so we are dropping all this data\n",
    "dropping_columns = [col for col in churn_data_new.columns if '_9' in col]"
   ]
  },
  {
   "cell_type": "code",
   "execution_count": null,
   "metadata": {
    "colab": {},
    "colab_type": "code",
    "id": "GbjSTMz3BPKZ"
   },
   "outputs": [],
   "source": [
    "churn_data_new.drop(dropping_columns,axis=1,inplace=True)"
   ]
  },
  {
   "cell_type": "code",
   "execution_count": null,
   "metadata": {
    "colab": {
     "base_uri": "https://localhost:8080/",
     "height": 34
    },
    "colab_type": "code",
    "id": "F9FW6QQEBrOx",
    "outputId": "98d506ce-e7bc-480b-94fb-3b37b99a1e8e"
   },
   "outputs": [],
   "source": [
    "churn_data_new.shape"
   ]
  },
  {
   "cell_type": "code",
   "execution_count": null,
   "metadata": {
    "colab": {
     "base_uri": "https://localhost:8080/",
     "height": 224
    },
    "colab_type": "code",
    "id": "oPNacUffBt35",
    "outputId": "e82efee7-53f0-4672-a546-67c79c6827ce"
   },
   "outputs": [],
   "source": [
    "churn_data_new.head(5)"
   ]
  },
  {
   "cell_type": "code",
   "execution_count": null,
   "metadata": {
    "colab": {},
    "colab_type": "code",
    "id": "ae7JtTRxBxBA"
   },
   "outputs": [],
   "source": []
  },
  {
   "cell_type": "markdown",
   "metadata": {
    "colab_type": "text",
    "id": "XA4ivaiM6rN5"
   },
   "source": [
    "## Data PreProcessing"
   ]
  },
  {
   "cell_type": "markdown",
   "metadata": {
    "colab_type": "text",
    "id": "oQkLMuXs7lgN"
   },
   "source": [
    "#### `Deriving the variable`"
   ]
  },
  {
   "cell_type": "code",
   "execution_count": null,
   "metadata": {
    "colab": {},
    "colab_type": "code",
    "id": "-7MzdrKy7s7l"
   },
   "outputs": [],
   "source": [
    "# Converting the AON(Age on Network) from days to months\n",
    "churn_data_new['aon_month'] = churn_data_new['aon']/30"
   ]
  },
  {
   "cell_type": "code",
   "execution_count": null,
   "metadata": {
    "colab": {
     "base_uri": "https://localhost:8080/",
     "height": 204
    },
    "colab_type": "code",
    "id": "JAXYpYn_-YfK",
    "outputId": "07799e90-3361-4957-b3b7-32f3ce94c8a5"
   },
   "outputs": [],
   "source": [
    "churn_data_new[['aon_month','aon']].head()"
   ]
  },
  {
   "cell_type": "code",
   "execution_count": null,
   "metadata": {
    "colab": {},
    "colab_type": "code",
    "id": "RRVeDjp_-y3p"
   },
   "outputs": [],
   "source": [
    "# Dropping the aon column as we have derived a column from it.\n",
    "churn_data_new.drop('aon',axis=1,inplace=True)"
   ]
  },
  {
   "cell_type": "code",
   "execution_count": null,
   "metadata": {
    "colab": {},
    "colab_type": "code",
    "id": "39--rVbK3Oa7"
   },
   "outputs": [],
   "source": [
    "# churn_data_new[''] = churn_data_new['total_recharge_amt_6']-churn_data_new['total_recharge_amt_8']"
   ]
  },
  {
   "cell_type": "markdown",
   "metadata": {
    "colab_type": "text",
    "id": "lcjnXJLUWNLO"
   },
   "source": [
    "#### `Outliers Treatment`"
   ]
  },
  {
   "cell_type": "code",
   "execution_count": null,
   "metadata": {
    "colab": {
     "base_uri": "https://localhost:8080/",
     "height": 410
    },
    "colab_type": "code",
    "id": "VgtxQj-KOAUm",
    "outputId": "c0885d0b-5bae-4fff-c6be-3465731354e3"
   },
   "outputs": [],
   "source": [
    "churn_data_new.describe(percentiles=[0.25,0.5,0.75,0.90,0.95,0.99])"
   ]
  },
  {
   "cell_type": "code",
   "execution_count": null,
   "metadata": {
    "colab": {},
    "colab_type": "code",
    "id": "qbg1tC1zHKX0"
   },
   "outputs": [],
   "source": [
    "# Excluding the column which does not have the outliers\n",
    "no_outliers = ['loc_og_t2o_mou','std_og_t2o_mou','loc_ic_t2o_mou','std_og_t2c_mou_6','std_og_t2c_mou_7','std_og_t2c_mou_8','std_ic_t2o_mou_6','std_ic_t2o_mou_7','std_ic_t2o_mou_8','mobile_number','circle_id','churned_column','last_date_of_month_6','last_date_of_month_7','last_date_of_month_8']"
   ]
  },
  {
   "cell_type": "code",
   "execution_count": null,
   "metadata": {
    "colab": {
     "base_uri": "https://localhost:8080/",
     "height": 317
    },
    "colab_type": "code",
    "id": "ETfW9wzRAqpT",
    "outputId": "efbae6ed-b1f5-47e9-8ec0-a0c02fdee13c"
   },
   "outputs": [],
   "source": [
    "churn_data_new[no_outliers].describe()"
   ]
  },
  {
   "cell_type": "code",
   "execution_count": null,
   "metadata": {
    "colab": {},
    "colab_type": "code",
    "id": "OiRkSrnAuM2p"
   },
   "outputs": [],
   "source": [
    "columns_to_treat = []\n",
    "for col in churn_data_new.columns:\n",
    "  if col not in  discrete_variables.values and col not in no_outliers and 'date' not in col:\n",
    "    columns_to_treat.append(col)\n"
   ]
  },
  {
   "cell_type": "code",
   "execution_count": null,
   "metadata": {
    "colab": {
     "base_uri": "https://localhost:8080/",
     "height": 317
    },
    "colab_type": "code",
    "id": "NlHahNIcBRx9",
    "outputId": "d0629ffd-319d-44b3-d09b-eaf75215fd41"
   },
   "outputs": [],
   "source": [
    "churn_data_new[columns_to_treat].describe()"
   ]
  },
  {
   "cell_type": "code",
   "execution_count": null,
   "metadata": {
    "colab": {
     "base_uri": "https://localhost:8080/",
     "height": 1000
    },
    "colab_type": "code",
    "id": "I4nbMSgu2ePB",
    "outputId": "ad1c60f2-9dfb-46cb-c76f-e521a89494f5"
   },
   "outputs": [],
   "source": [
    "# Checking the percentage of outliers\n",
    "for col in columns_to_treat:\n",
    "  q = churn_data_new[col].quantile(0.99)\n",
    "  percentage = churn_data_new[ churn_data_new[col] >= q ].shape[0]/churn_data_new.shape[0]*100\n",
    "  print (f\"Column: {col} Percentage:{percentage} \")\n"
   ]
  },
  {
   "cell_type": "markdown",
   "metadata": {
    "colab_type": "text",
    "id": "srsDrm7jOilt"
   },
   "source": [
    "`Log Transforming the outliers as we have very less percentage`"
   ]
  },
  {
   "cell_type": "code",
   "execution_count": null,
   "metadata": {
    "colab": {
     "base_uri": "https://localhost:8080/",
     "height": 410
    },
    "colab_type": "code",
    "id": "KrZfYf-TnNy7",
    "outputId": "55a7e394-eccd-44bc-b53a-1be4b45933c5"
   },
   "outputs": [],
   "source": [
    "# Checking the data after dropping\n",
    "churn_data_new.describe(percentiles=[0.25,0.5,0.75,0.90,0.95,0.99])"
   ]
  },
  {
   "cell_type": "code",
   "execution_count": null,
   "metadata": {
    "colab": {},
    "colab_type": "code",
    "id": "Yp3Yt110-NgL"
   },
   "outputs": [],
   "source": [
    "# Replacing the negative arpu values with zero\n",
    "cols = ['arpu_6','arpu_7','arpu_8']\n",
    "for col in cols:\n",
    "  churn_data_new[churn_data_new[col]<0] = 0"
   ]
  },
  {
   "cell_type": "code",
   "execution_count": null,
   "metadata": {
    "colab": {
     "base_uri": "https://localhost:8080/",
     "height": 1000
    },
    "colab_type": "code",
    "id": "rjuxKUwF4Dke",
    "outputId": "4aae672d-5345-4727-dbe8-2d264ee1d0f1"
   },
   "outputs": [],
   "source": [
    "churn_data_new[columns_to_treat].dtypes"
   ]
  },
  {
   "cell_type": "code",
   "execution_count": null,
   "metadata": {
    "colab": {},
    "colab_type": "code",
    "id": "u-MMxErhMod-"
   },
   "outputs": [],
   "source": [
    "# Applying the log transformation to treat the outliers\n",
    "churn_data_new[columns_to_treat] = churn_data_new[columns_to_treat].apply(lambda x:np.log(1+x))"
   ]
  },
  {
   "cell_type": "code",
   "execution_count": null,
   "metadata": {
    "colab": {
     "base_uri": "https://localhost:8080/",
     "height": 410
    },
    "colab_type": "code",
    "id": "E90Uf31E5XA0",
    "outputId": "04887898-1a9a-4de7-8c73-27901b528072"
   },
   "outputs": [],
   "source": [
    "churn_data_new.describe(percentiles=[0.25,0.5,0.75,0.90,0.95,0.99])"
   ]
  },
  {
   "cell_type": "code",
   "execution_count": null,
   "metadata": {
    "colab": {
     "base_uri": "https://localhost:8080/",
     "height": 34
    },
    "colab_type": "code",
    "id": "N4Q3zqT9JIHJ",
    "outputId": "3e9acb35-4e8b-42a5-b2b5-7bd96b3badb1"
   },
   "outputs": [],
   "source": [
    "print(churn_data_new.shape)"
   ]
  },
  {
   "cell_type": "markdown",
   "metadata": {
    "colab_type": "text",
    "id": "Bg6gIXuFyKiz"
   },
   "source": [
    "#### `Graphs`"
   ]
  },
  {
   "cell_type": "code",
   "execution_count": null,
   "metadata": {
    "colab": {
     "base_uri": "https://localhost:8080/",
     "height": 460
    },
    "colab_type": "code",
    "id": "PVLirhg-6pHz",
    "outputId": "9a3d6dbc-96a4-486a-b0b1-4d9ac01b2c9f"
   },
   "outputs": [],
   "source": [
    "plt.figure(figsize=(10,10))\n",
    "f, axes = plt.subplots(2, 2, figsize=(7, 7), sharex=True)\n",
    "sns.distplot(churn_data_new['total_recharge_amt_6'],bins=50,rug=False,kde=False,ax=axes[0, 0])\n",
    "sns.distplot(churn_data_new['total_recharge_amt_7'],bins=50,rug=False,kde=False,ax=axes[0, 1])\n",
    "sns.distplot(churn_data_new['total_recharge_amt_8'],bins=50,rug=False,kde=False,ax=axes[1, 0])\n",
    "\n",
    "plt.show()\n"
   ]
  },
  {
   "cell_type": "code",
   "execution_count": null,
   "metadata": {
    "colab": {
     "base_uri": "https://localhost:8080/",
     "height": 1000
    },
    "colab_type": "code",
    "id": "JX0nTrERK-X5",
    "outputId": "c3db8565-5766-485e-add4-7338e81b3224"
   },
   "outputs": [],
   "source": [
    "# Checking the correlation between the churn V\\s other columns\n",
    "plt.figure(figsize=(30,30))\n",
    "churn_data_new.corr()['churned_column'].sort_values(ascending = False).plot(kind='bar')"
   ]
  },
  {
   "cell_type": "code",
   "execution_count": null,
   "metadata": {
    "colab": {
     "base_uri": "https://localhost:8080/",
     "height": 297
    },
    "colab_type": "code",
    "id": "ZIrW9euoMHwC",
    "outputId": "b6c4dc6c-8bc9-4d18-9f51-326bdd6e3265"
   },
   "outputs": [],
   "source": [
    "sns.boxplot(churn_data_new['churned_column'],churn_data_new['aon_month'])"
   ]
  },
  {
   "cell_type": "markdown",
   "metadata": {
    "colab_type": "text",
    "id": "RgULgWmtNmwb"
   },
   "source": [
    "## Model building"
   ]
  },
  {
   "cell_type": "markdown",
   "metadata": {
    "colab_type": "text",
    "id": "grUdmuDMNsE8"
   },
   "source": [
    "#### `Treating the imbalance dataset`"
   ]
  },
  {
   "cell_type": "code",
   "execution_count": null,
   "metadata": {
    "colab": {},
    "colab_type": "code",
    "id": "RtE-jP2WNxlu"
   },
   "outputs": [],
   "source": [
    "# Removing all the object columns\n",
    "categorical_columns_ = churn_data_new.select_dtypes(exclude=['int','float']).columns\n"
   ]
  },
  {
   "cell_type": "code",
   "execution_count": null,
   "metadata": {
    "colab": {},
    "colab_type": "code",
    "id": "UrMVKigAShA9"
   },
   "outputs": [],
   "source": [
    "for col in categorical_columns_:\n",
    "  churn_data_new.drop(col,axis=1,inplace=True)"
   ]
  },
  {
   "cell_type": "code",
   "execution_count": null,
   "metadata": {
    "colab": {
     "base_uri": "https://localhost:8080/",
     "height": 34
    },
    "colab_type": "code",
    "id": "S5thuwP8SiW9",
    "outputId": "5287d6ce-1f8e-415c-a45f-a00eac0e7236"
   },
   "outputs": [],
   "source": [
    "churn_data_new.head(10)\n",
    "print(churn_data_new.shape)"
   ]
  },
  {
   "cell_type": "code",
   "execution_count": null,
   "metadata": {
    "colab": {
     "base_uri": "https://localhost:8080/",
     "height": 68
    },
    "colab_type": "code",
    "id": "D0YvT7EYWRi-",
    "outputId": "4363d7e8-70b0-405b-98eb-fe3cffaf6d01"
   },
   "outputs": [],
   "source": [
    "# We can see that the dataset is imbalance since 92% of customers did't churned.\n",
    "churn_data_new['churned_column'].value_counts()/churn_data_new.shape[0] * 100\n"
   ]
  },
  {
   "cell_type": "code",
   "execution_count": null,
   "metadata": {
    "colab": {},
    "colab_type": "code",
    "id": "aYNyfLvaUIak"
   },
   "outputs": [],
   "source": [
    "main_df = churn_data_new"
   ]
  },
  {
   "cell_type": "code",
   "execution_count": null,
   "metadata": {
    "colab": {},
    "colab_type": "code",
    "id": "lRNAxOG1Uc4Y"
   },
   "outputs": [],
   "source": [
    "X = main_df.drop(['churned_column'],axis=1)\n",
    "y = main_df['churned_column']"
   ]
  },
  {
   "cell_type": "code",
   "execution_count": null,
   "metadata": {
    "colab": {
     "base_uri": "https://localhost:8080/",
     "height": 51
    },
    "colab_type": "code",
    "id": "CxIrlovWUvLN",
    "outputId": "072d6817-448a-4ec5-abcf-35830c708bb9"
   },
   "outputs": [],
   "source": [
    "# Spliting the data as train and test sets\n",
    "from sklearn.model_selection import train_test_split\n",
    "\n",
    "X_train, X_test, y_train, y_test = train_test_split(X, y, test_size=0.3, train_size=0.7, random_state=1)\n",
    "print(\"Dimension of X_train:\", X_train.shape)\n",
    "print(\"Dimension of X_test:\", X_test.shape)"
   ]
  },
  {
   "cell_type": "code",
   "execution_count": null,
   "metadata": {
    "colab": {},
    "colab_type": "code",
    "id": "UOpN9szyU65j"
   },
   "outputs": [],
   "source": [
    "from imblearn.over_sampling import SMOTE\n",
    "\n",
    "sm = SMOTE(kind = \"regular\")\n",
    "X_train_,y_train_ = sm.fit_sample(X_train,y_train)"
   ]
  },
  {
   "cell_type": "code",
   "execution_count": null,
   "metadata": {
    "colab": {
     "base_uri": "https://localhost:8080/",
     "height": 68
    },
    "colab_type": "code",
    "id": "Nat5OdjcVV4u",
    "outputId": "699096bf-fc47-4b18-bc67-243ab6752ba1"
   },
   "outputs": [],
   "source": [
    "# Checking the shape and also the balanced data after treated using the SMOTE\n",
    "print(\"Dimension of X_tr Shape:\", X_train_.shape)\n",
    "print(\"Dimension of y_tr Shape:\", y_train_.shape)\n",
    "\n",
    "print(\"Imbalance in Training dataset:\",(y_train_ != 0).sum()/(y_train_ == 0).sum())"
   ]
  },
  {
   "cell_type": "code",
   "execution_count": null,
   "metadata": {
    "colab": {},
    "colab_type": "code",
    "id": "KhSqkDy1v0IZ"
   },
   "outputs": [],
   "source": [
    "# Confusion metrics\n",
    "def confusion_matrix_(y_test,y_preds):\n",
    "  cm1 = confusion_matrix(y_test, y_preds)\n",
    "  print('Confusion Matrix : \\n', cm1)\n",
    "\n",
    "  total1=sum(sum(cm1))\n",
    "  #####from confusion matrix calculate accuracy\n",
    "  accuracy1=(cm1[0,0]+cm1[1,1])/total1\n",
    "  print ('Accuracy : ', accuracy1)\n",
    "\n",
    "  sensitivity1 = cm1[0,0]/(cm1[0,0]+cm1[0,1])\n",
    "  print('Sensitivity : ', sensitivity1 )\n",
    "\n",
    "  specificity1 = cm1[1,1]/(cm1[1,0]+cm1[1,1])\n",
    "  print('Specificity : ', specificity1)\n"
   ]
  },
  {
   "cell_type": "markdown",
   "metadata": {
    "colab_type": "text",
    "id": "RsjhdnaGnSQG"
   },
   "source": [
    "#### `Logistic Regression`"
   ]
  },
  {
   "cell_type": "code",
   "execution_count": null,
   "metadata": {
    "colab": {
     "base_uri": "https://localhost:8080/",
     "height": 102
    },
    "colab_type": "code",
    "id": "5Mvotmw7X05B",
    "outputId": "f8772bf8-936a-442e-c323-9bc99e2a788b"
   },
   "outputs": [],
   "source": [
    "lr = LogisticRegression()\n",
    "lr.fit(X_train_, y_train_)"
   ]
  },
  {
   "cell_type": "code",
   "execution_count": null,
   "metadata": {
    "colab": {
     "base_uri": "https://localhost:8080/",
     "height": 34
    },
    "colab_type": "code",
    "id": "4ipB3oikZdN7",
    "outputId": "bb460c4d-db59-4883-8770-ddf4bbafef73"
   },
   "outputs": [],
   "source": [
    "y_pred = lr.predict(X_test)\n",
    "metrics.accuracy_score(y_test, y_pred)"
   ]
  },
  {
   "cell_type": "code",
   "execution_count": null,
   "metadata": {
    "colab": {
     "base_uri": "https://localhost:8080/",
     "height": 119
    },
    "colab_type": "code",
    "id": "qhkKIjP7rTBG",
    "outputId": "92acbbfb-ea0e-4937-c67e-de37ac9b66ca"
   },
   "outputs": [],
   "source": [
    "confusion_matrix_(y_test,y_pred)  "
   ]
  },
  {
   "cell_type": "markdown",
   "metadata": {
    "colab_type": "text",
    "id": "e1yDAanx4QHf"
   },
   "source": [
    "#### `Random Forest`"
   ]
  },
  {
   "cell_type": "markdown",
   "metadata": {
    "colab_type": "text",
    "id": "-gGxW_kG55Yi"
   },
   "source": [
    "Random Forest with default parameters"
   ]
  },
  {
   "cell_type": "code",
   "execution_count": null,
   "metadata": {
    "colab": {},
    "colab_type": "code",
    "id": "ywueEkz86JjD"
   },
   "outputs": [],
   "source": [
    "# Splitting and applying the SMOTE to balance the data\n",
    "X_train, X_test, y_train, y_test = train_test_split(X, y, test_size=0.3, train_size=0.7, random_state=1)\n",
    "\n",
    "sm = SMOTE(kind = \"regular\")\n",
    "X_train_sm, y_train_sm = sm.fit_sample(X_train,y_train)"
   ]
  },
  {
   "cell_type": "code",
   "execution_count": null,
   "metadata": {
    "colab": {},
    "colab_type": "code",
    "id": "L9PJyblG59tB"
   },
   "outputs": [],
   "source": [
    "rfc = RandomForestClassifier()"
   ]
  },
  {
   "cell_type": "code",
   "execution_count": null,
   "metadata": {
    "colab": {
     "base_uri": "https://localhost:8080/",
     "height": 153
    },
    "colab_type": "code",
    "id": "yPvHBK7Q6DlB",
    "outputId": "e27162c4-aa4a-44d3-f9d6-987e7d4cc119"
   },
   "outputs": [],
   "source": [
    "rfc.fit(X_train_sm,y_train_sm)"
   ]
  },
  {
   "cell_type": "code",
   "execution_count": null,
   "metadata": {
    "colab": {},
    "colab_type": "code",
    "id": "Ai5KURD0AVUa"
   },
   "outputs": [],
   "source": [
    "predictions = rfc.predict(X_test)"
   ]
  },
  {
   "cell_type": "code",
   "execution_count": null,
   "metadata": {
    "colab": {
     "base_uri": "https://localhost:8080/",
     "height": 119
    },
    "colab_type": "code",
    "id": "FUeDv-I9AdFm",
    "outputId": "1d180917-7370-4fd6-a3e9-ed10e55d5611"
   },
   "outputs": [],
   "source": [
    "confusion_matrix_(y_test, predictions)"
   ]
  },
  {
   "cell_type": "code",
   "execution_count": null,
   "metadata": {
    "colab": {},
    "colab_type": "code",
    "id": "QWE8EYvV-8A8"
   },
   "outputs": [],
   "source": [
    "# Dictionary of importance of features from the model.\n",
    "feature_dict={}\n",
    "num = len(X_train.columns) - 1\n",
    "for i in range(0,num):\n",
    "   feature_dict[X_train.columns[i]] = rfc.feature_importances_[i] "
   ]
  },
  {
   "cell_type": "code",
   "execution_count": null,
   "metadata": {
    "colab": {
     "base_uri": "https://localhost:8080/",
     "height": 187
    },
    "colab_type": "code",
    "id": "IgX9TCdVJ5Ya",
    "outputId": "d206c2ea-f50d-471e-9c1c-300e577671ae"
   },
   "outputs": [],
   "source": [
    "# Get the 10 most important features\n",
    "def keyfunction(k):\n",
    "    return feature_dict[k]\n",
    "for key in sorted(feature_dict, key=keyfunction, reverse=True)[:10]:\n",
    "    print (f\"{key} : {feature_dict[key]}\")"
   ]
  },
  {
   "cell_type": "markdown",
   "metadata": {
    "colab_type": "text",
    "id": "hiL-vrlV-3zJ"
   },
   "source": [
    "Tuning the hyperparameter"
   ]
  },
  {
   "cell_type": "code",
   "execution_count": null,
   "metadata": {
    "colab": {},
    "colab_type": "code",
    "id": "JwAc8GWO4T8j"
   },
   "outputs": [],
   "source": [
    "# Tuning the hyper-parameter using the GridSearchCV\n",
    "# Create the parameter grid based on the results of random search \n",
    "param_grid = {\n",
    "    'max_depth': [10, 20, 30],\n",
    "    'min_samples_leaf': range(1, 5, 10),\n",
    "    'min_samples_split': range(2, 10, 20),\n",
    "    'n_estimators': [50, 75, 100], \n",
    "    'max_features': [10, 20, 30]\n",
    "}\n",
    "# Create a based model\n",
    "rf = RandomForestClassifier()\n",
    "# Instantiate the grid search model\n",
    "grid_search = GridSearchCV(estimator = rf, param_grid = param_grid, \n",
    "                          cv = 3, n_jobs = -1,verbose = 1)"
   ]
  },
  {
   "cell_type": "code",
   "execution_count": null,
   "metadata": {
    "colab": {
     "base_uri": "https://localhost:8080/",
     "height": 493
    },
    "colab_type": "code",
    "id": "TFeCJxhT5txJ",
    "outputId": "2b8f2d1f-249f-492c-84c0-c6fc85c829bc"
   },
   "outputs": [],
   "source": [
    "# Fitting the GridSearchCV to the training data\n",
    "grid_search.fit(X_train_sm, y_train_sm)"
   ]
  },
  {
   "cell_type": "code",
   "execution_count": null,
   "metadata": {
    "colab": {
     "base_uri": "https://localhost:8080/",
     "height": 54
    },
    "colab_type": "code",
    "id": "zia5QuWLB3IR",
    "outputId": "b96777f3-d45f-4b07-f418-bef9c903d9a5"
   },
   "outputs": [],
   "source": [
    "# printing the optimal accuracy score and hyperparameters\n",
    "print('The accuracy obtained by best parameters is',grid_search.best_score_,'using',grid_search.best_params_)"
   ]
  },
  {
   "cell_type": "markdown",
   "metadata": {
    "colab_type": "text",
    "id": "FAU438H7KvK2"
   },
   "source": [
    "Random Forest with optimal parameters obatained from Hyperparameter tuning"
   ]
  },
  {
   "cell_type": "code",
   "execution_count": null,
   "metadata": {
    "colab": {},
    "colab_type": "code",
    "id": "fd5DkIvaK7Od"
   },
   "outputs": [],
   "source": [
    "rfc = RandomForestClassifier(bootstrap=True,\n",
    "                             max_depth=8,\n",
    "                             min_samples_leaf=1, \n",
    "                             min_samples_split=2,\n",
    "                             max_features=30,\n",
    "                             n_estimators=75)"
   ]
  },
  {
   "cell_type": "code",
   "execution_count": null,
   "metadata": {
    "colab": {
     "base_uri": "https://localhost:8080/",
     "height": 153
    },
    "colab_type": "code",
    "id": "StdMCiRrXrF-",
    "outputId": "42b9539e-9962-4ad3-ad6e-3f1f07a96385"
   },
   "outputs": [],
   "source": [
    "rfc.fit(X_train_sm, y_train_sm)"
   ]
  },
  {
   "cell_type": "code",
   "execution_count": null,
   "metadata": {
    "colab": {},
    "colab_type": "code",
    "id": "-vrRAEfsXvbL"
   },
   "outputs": [],
   "source": [
    "predictions_hp = rfc.predict(X_test)"
   ]
  },
  {
   "cell_type": "code",
   "execution_count": null,
   "metadata": {
    "colab": {
     "base_uri": "https://localhost:8080/",
     "height": 119
    },
    "colab_type": "code",
    "id": "LToryMLjX3pO",
    "outputId": "f2a6850a-6333-4e28-9165-01a159586c4b"
   },
   "outputs": [],
   "source": [
    "confusion_matrix_(y_test, predictions_hp)"
   ]
  },
  {
   "cell_type": "markdown",
   "metadata": {
    "colab_type": "text",
    "id": "ZIn1yMwPnq-d"
   },
   "source": [
    "#### `PCA`\n",
    "\n"
   ]
  },
  {
   "cell_type": "code",
   "execution_count": null,
   "metadata": {
    "colab": {
     "base_uri": "https://localhost:8080/",
     "height": 51
    },
    "colab_type": "code",
    "id": "NewMuUBpntwO",
    "outputId": "e5e9fb20-e9d3-40c3-8094-5b7a10799c73"
   },
   "outputs": [],
   "source": [
    "# Doing the train test split and then applying SMOTE to balance the dataset\n",
    "X_train, X_test, y_train, y_test = train_test_split(X, y, test_size=0.3, train_size=0.7, random_state=1)\n",
    "\n",
    "# Applying SMOTE \n",
    "sm = SMOTE(kind = \"regular\")\n",
    "X_train_sm,y_train_sm = sm.fit_sample(X_train,y_train)\n",
    "print(X_train_sm.shape)\n",
    "print(y_train_sm.shape)"
   ]
  },
  {
   "cell_type": "code",
   "execution_count": null,
   "metadata": {
    "colab": {
     "base_uri": "https://localhost:8080/",
     "height": 51
    },
    "colab_type": "code",
    "id": "GMvHPovJtMZR",
    "outputId": "1915ef4c-45d0-4216-8a2d-5350fb902017"
   },
   "outputs": [],
   "source": [
    "# Applying PCA on train data\n",
    "pca = PCA(random_state=100)\n",
    "pca.fit(X_train_sm)"
   ]
  },
  {
   "cell_type": "code",
   "execution_count": null,
   "metadata": {
    "colab": {},
    "colab_type": "code",
    "id": "5dk_jFiptUZj"
   },
   "outputs": [],
   "source": [
    "X_train_pca = pca.fit_transform(X_train_sm)"
   ]
  },
  {
   "cell_type": "code",
   "execution_count": null,
   "metadata": {
    "colab": {
     "base_uri": "https://localhost:8080/",
     "height": 34
    },
    "colab_type": "code",
    "id": "0oXglSmJtoh4",
    "outputId": "0e60c0c4-d518-41a9-bc64-fe584cde5986"
   },
   "outputs": [],
   "source": [
    "X_train_pca.shape"
   ]
  },
  {
   "cell_type": "code",
   "execution_count": null,
   "metadata": {
    "colab": {
     "base_uri": "https://localhost:8080/",
     "height": 34
    },
    "colab_type": "code",
    "id": "Tjimw01mtq-o",
    "outputId": "188cb53f-889d-46c2-e4c4-dfe4d9c53a31"
   },
   "outputs": [],
   "source": [
    "X_train_sm.shape"
   ]
  },
  {
   "cell_type": "code",
   "execution_count": null,
   "metadata": {
    "colab": {
     "base_uri": "https://localhost:8080/",
     "height": 497
    },
    "colab_type": "code",
    "id": "DuiyWe3nvZ_U",
    "outputId": "a61249ea-5004-40ea-b399-76aee4b602b7"
   },
   "outputs": [],
   "source": [
    "# Scree plot to check the variance explained by different PCAs\n",
    "fig = plt.figure(figsize = (12,8))\n",
    "plt.plot(np.cumsum(pca.explained_variance_ratio_))\n",
    "plt.xlabel('Number of principal components')\n",
    "plt.ylabel('Explained variance - cumulative')\n",
    "plt.show()"
   ]
  },
  {
   "cell_type": "code",
   "execution_count": null,
   "metadata": {
    "colab": {},
    "colab_type": "code",
    "id": "LMLILjvnwelI"
   },
   "outputs": [],
   "source": [
    "# From the graph we can see that around 30 features can explain 90% of data\n",
    "pca_30 = PCA(n_components=30)\n",
    "X_train_pca_30 = pca_30.fit_transform(X_train_sm)\n",
    "X_test_pca_30 = pca_30.transform(X_test)"
   ]
  },
  {
   "cell_type": "code",
   "execution_count": null,
   "metadata": {
    "colab": {
     "base_uri": "https://localhost:8080/",
     "height": 85
    },
    "colab_type": "code",
    "id": "wSPj5Rld2f4J",
    "outputId": "7c7cdc57-f3aa-491b-c759-5eb1a3e58222"
   },
   "outputs": [],
   "source": [
    "print(X_train_pca_30.shape)\n",
    "print(y_train_sm.shape)\n",
    "print(X_test_pca_30.shape)\n",
    "print(y_test.shape)"
   ]
  },
  {
   "cell_type": "markdown",
   "metadata": {
    "colab_type": "text",
    "id": "TMYQtyC90BUf"
   },
   "source": [
    "#### `XGBoost`"
   ]
  },
  {
   "cell_type": "code",
   "execution_count": null,
   "metadata": {
    "colab": {},
    "colab_type": "code",
    "id": "VTUo0crh1iQO"
   },
   "outputs": [],
   "source": [
    "# Applying the XGBoost on the features obtained after doing the PCA\n",
    "train = xgb.DMatrix(X_train_pca_30,label=y_train_sm)\n",
    "test=xgb.DMatrix(X_test_pca_30,label=y_test)"
   ]
  },
  {
   "cell_type": "code",
   "execution_count": null,
   "metadata": {
    "colab": {},
    "colab_type": "code",
    "id": "YOgLLLry3E-O"
   },
   "outputs": [],
   "source": [
    "param={\n",
    "    'max_depth':10,\n",
    "    'eta':0.3,\n",
    "    'objective':'multi:softmax',\n",
    "    'num_class':2\n",
    "}\n",
    "epochs=10"
   ]
  },
  {
   "cell_type": "code",
   "execution_count": null,
   "metadata": {
    "colab": {},
    "colab_type": "code",
    "id": "jyBIBf7u3fKZ"
   },
   "outputs": [],
   "source": [
    "model = xgb.train(param, train, epochs)"
   ]
  },
  {
   "cell_type": "code",
   "execution_count": null,
   "metadata": {
    "colab": {},
    "colab_type": "code",
    "id": "YCPxgRV53zPF"
   },
   "outputs": [],
   "source": [
    "y_pred_xg = model.predict(test)"
   ]
  },
  {
   "cell_type": "code",
   "execution_count": null,
   "metadata": {
    "colab": {
     "base_uri": "https://localhost:8080/",
     "height": 119
    },
    "colab_type": "code",
    "id": "G6fTIUnV532A",
    "outputId": "01370ee1-eab0-49f5-a506-2faa1ee1f751"
   },
   "outputs": [],
   "source": [
    "confusion_matrix_(y_test,y_pred_xg)"
   ]
  },
  {
   "cell_type": "markdown",
   "metadata": {
    "colab_type": "text",
    "id": "cwc6GqBY53zP"
   },
   "source": [
    "#### `Decision Tree`"
   ]
  },
  {
   "cell_type": "code",
   "execution_count": null,
   "metadata": {
    "colab": {},
    "colab_type": "code",
    "id": "d4TJytRe57Ql"
   },
   "outputs": [],
   "source": [
    "from sklearn.tree import DecisionTreeClassifier"
   ]
  },
  {
   "cell_type": "code",
   "execution_count": null,
   "metadata": {
    "colab": {},
    "colab_type": "code",
    "id": "yE4Jy5Uu7Amm"
   },
   "outputs": [],
   "source": [
    "clf = DecisionTreeClassifier( criterion = \"entropy\",class_weight= \"balanced\", random_state = 100, max_depth = 3, min_samples_leaf = 5)"
   ]
  },
  {
   "cell_type": "code",
   "execution_count": null,
   "metadata": {
    "colab": {
     "base_uri": "https://localhost:8080/",
     "height": 119
    },
    "colab_type": "code",
    "id": "WUKCnU1c7aAG",
    "outputId": "5d14b71b-4908-477a-bea1-18403d06991d"
   },
   "outputs": [],
   "source": [
    "clf.fit(X_train_pca_30, y_train_sm)"
   ]
  },
  {
   "cell_type": "code",
   "execution_count": null,
   "metadata": {
    "colab": {},
    "colab_type": "code",
    "id": "-cOM-VKN9Tdz"
   },
   "outputs": [],
   "source": [
    "y_pred = clf.predict(X_test_pca_30)"
   ]
  },
  {
   "cell_type": "code",
   "execution_count": null,
   "metadata": {
    "colab": {
     "base_uri": "https://localhost:8080/",
     "height": 119
    },
    "colab_type": "code",
    "id": "cem3eDCN9bp1",
    "outputId": "eb4f50aa-128e-419c-8709-dfa6cd09c07c"
   },
   "outputs": [],
   "source": [
    "confusion_matrix_(y_test, y_pred)"
   ]
  },
  {
   "cell_type": "markdown",
   "metadata": {
    "colab_type": "text",
    "id": "I7rBR-TGXizd"
   },
   "source": [
    "#### `Random Forest with PCA and default parameters`"
   ]
  },
  {
   "cell_type": "code",
   "execution_count": null,
   "metadata": {
    "colab": {},
    "colab_type": "code",
    "id": "xT8VyJea6ALN"
   },
   "outputs": [],
   "source": [
    "rfc = RandomForestClassifier()"
   ]
  },
  {
   "cell_type": "code",
   "execution_count": null,
   "metadata": {
    "colab": {
     "base_uri": "https://localhost:8080/",
     "height": 153
    },
    "colab_type": "code",
    "id": "A6KrQcLBXPWB",
    "outputId": "5c41c4d0-8cc6-4f0d-e9f0-6905a0017c47"
   },
   "outputs": [],
   "source": [
    "rfc.fit(X_train_pca_30, y_train_sm)"
   ]
  },
  {
   "cell_type": "code",
   "execution_count": null,
   "metadata": {
    "colab": {},
    "colab_type": "code",
    "id": "wCbWr7snXY_g"
   },
   "outputs": [],
   "source": [
    "predictions = rfc.predict(X_test_pca_30)"
   ]
  },
  {
   "cell_type": "code",
   "execution_count": null,
   "metadata": {
    "colab": {
     "base_uri": "https://localhost:8080/",
     "height": 119
    },
    "colab_type": "code",
    "id": "Vgb5MdX3XbZ3",
    "outputId": "c4a83b8e-b07f-4972-a609-57652cf7f32c"
   },
   "outputs": [],
   "source": [
    "confusion_matrix_(y_test, predictions)"
   ]
  },
  {
   "cell_type": "markdown",
   "metadata": {
    "colab_type": "text",
    "id": "G34TfFsdX0iq"
   },
   "source": [
    "#### `Random Forest with PCA and hyperparameter tuning`"
   ]
  },
  {
   "cell_type": "code",
   "execution_count": null,
   "metadata": {
    "colab": {},
    "colab_type": "code",
    "id": "YCaTlPORX7LP"
   },
   "outputs": [],
   "source": [
    "param_grid = {\n",
    "    'max_depth': [2, 4, 8],\n",
    "    'min_samples_leaf': range(1, 5, 10),\n",
    "    'min_samples_split': range(2, 10, 20),\n",
    "    'n_estimators': [50, 75, 100], \n",
    "    'max_features': [10, 20, 30]\n",
    "}\n",
    "# Create a based model\n",
    "rf = RandomForestClassifier()\n",
    "# Instantiate the grid search model\n",
    "grid_search = GridSearchCV(estimator = rf, param_grid = param_grid, \n",
    "                          cv = 3, n_jobs = -1,verbose = 1)"
   ]
  },
  {
   "cell_type": "code",
   "execution_count": null,
   "metadata": {
    "colab": {
     "base_uri": "https://localhost:8080/",
     "height": 476
    },
    "colab_type": "code",
    "id": "pfwPTjcBYGs6",
    "outputId": "56efe1ab-3d41-43ad-c0d9-feeeaafd9de1"
   },
   "outputs": [],
   "source": [
    "grid_search.fit(X_train_pca_30, y_train_sm)"
   ]
  },
  {
   "cell_type": "code",
   "execution_count": null,
   "metadata": {
    "colab": {
     "base_uri": "https://localhost:8080/",
     "height": 54
    },
    "colab_type": "code",
    "id": "rhY02yQbgk8n",
    "outputId": "319c9855-653b-4af7-87fa-55960b4b3b6d"
   },
   "outputs": [],
   "source": [
    "# printing the optimal accuracy score and hyperparameters\n",
    "print('The accuracy obtained by best parameters is',grid_search.best_score_,'using',grid_search.best_params_)"
   ]
  },
  {
   "cell_type": "markdown",
   "metadata": {
    "colab_type": "text",
    "id": "BEddESK1Ye4N"
   },
   "source": [
    "Using the optimal parameters obtained above"
   ]
  },
  {
   "cell_type": "code",
   "execution_count": null,
   "metadata": {
    "colab": {},
    "colab_type": "code",
    "id": "zwbUr76BYdzO"
   },
   "outputs": [],
   "source": [
    "rfc = RandomForestClassifier(bootstrap=True,\n",
    "                             max_depth=8,\n",
    "                             min_samples_leaf=1, \n",
    "                             min_samples_split=2,\n",
    "                             max_features=30,\n",
    "                             n_estimators=100)"
   ]
  },
  {
   "cell_type": "code",
   "execution_count": null,
   "metadata": {
    "colab": {
     "base_uri": "https://localhost:8080/",
     "height": 153
    },
    "colab_type": "code",
    "id": "Aeco6xYff0l1",
    "outputId": "8efb65e6-5a20-4b74-a27e-e373efb00562"
   },
   "outputs": [],
   "source": [
    "rfc.fit(X_train_pca_30, y_train_sm)"
   ]
  },
  {
   "cell_type": "code",
   "execution_count": null,
   "metadata": {
    "colab": {},
    "colab_type": "code",
    "id": "vCC4dP3BYkMM"
   },
   "outputs": [],
   "source": [
    "predictions_hp = rfc.predict(X_test_pca_30)"
   ]
  },
  {
   "cell_type": "code",
   "execution_count": null,
   "metadata": {
    "colab": {
     "base_uri": "https://localhost:8080/",
     "height": 119
    },
    "colab_type": "code",
    "id": "NOEQHPH4YsIF",
    "outputId": "9dd5dd4d-80a6-42d6-da2a-cc1f2f3514d5"
   },
   "outputs": [],
   "source": [
    "confusion_matrix_(y_test, predictions_hp)"
   ]
  },
  {
   "cell_type": "markdown",
   "metadata": {
    "colab_type": "text",
    "id": "hsXkIdgqLVfm"
   },
   "source": [
    "# Conclusion"
   ]
  },
  {
   "cell_type": "markdown",
   "metadata": {
    "colab_type": "text",
    "id": "Lfv9UIAPL0Vd"
   },
   "source": [
    "Random Forest is the best model which gives a sensitivity of 97% "
   ]
  },
  {
   "cell_type": "markdown",
   "metadata": {
    "colab_type": "text",
    "id": "U6YStPQCMDCT"
   },
   "source": [
    "Top 10 most important features which are needed to predict the churn were\n",
    "\n",
    "\n",
    "- roam_ic_mou_8 (Minutes of usage of  Roaming Incoming calls on 8th month)\n",
    "- roam_og_mou_8 (Minutes of usage of  Roaming Outgoing calls on 8th month)\n",
    "- total_ic_mou_8 (Total incoming calles on 8th month)\n",
    "- total_rech_amt_8 (Total recharge amount on 8th month)\n",
    "- last_day_rch_amt_8 (Last recharge amount on 8th month) \n",
    "- total_recharge_amt_8 (Total recharge amount)\n",
    "- av_rech_amt_data_8 ( Average recharge amount of data)\n",
    "- arpu_8 (Average revenue per user)\n",
    "- total_rech_data_8 (Total recharge of data)\n",
    "- total_og_mou_8 (Total outgoing minutes of usage)\n",
    "\n",
    "\n"
   ]
  }
 ],
 "metadata": {
  "colab": {
   "collapsed_sections": [
    "aojfNxSc_oSr",
    "vNy35RZSH4PZ"
   ],
   "name": "Churn_Case_Study.ipynb",
   "provenance": [],
   "toc_visible": true
  },
  "kernelspec": {
   "display_name": "Python 3",
   "language": "python",
   "name": "python3"
  },
  "language_info": {
   "codemirror_mode": {
    "name": "ipython",
    "version": 3
   },
   "file_extension": ".py",
   "mimetype": "text/x-python",
   "name": "python",
   "nbconvert_exporter": "python",
   "pygments_lexer": "ipython3",
   "version": "3.6.10"
  }
 },
 "nbformat": 4,
 "nbformat_minor": 1
}
